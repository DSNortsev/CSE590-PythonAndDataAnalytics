{
  "nbformat": 4,
  "nbformat_minor": 5,
  "metadata": {
    "kernelspec": {
      "display_name": "Python 3",
      "language": "python",
      "name": "python3"
    },
    "language_info": {
      "codemirror_mode": {
        "name": "ipython",
        "version": 3
      },
      "file_extension": ".py",
      "mimetype": "text/x-python",
      "name": "python",
      "nbconvert_exporter": "python",
      "pygments_lexer": "ipython3",
      "version": "3.9.2"
    },
    "colab": {
      "name": "final_exam.ipynb",
      "provenance": [],
      "include_colab_link": true
    }
  },
  "cells": [
    {
      "cell_type": "markdown",
      "metadata": {
        "id": "view-in-github",
        "colab_type": "text"
      },
      "source": [
        "<a href=\"https://colab.research.google.com/github/DSNortsev/CSE590-PythonAndDataAnalytics/blob/main/Final/final_exam.ipynb\" target=\"_parent\"><img src=\"https://colab.research.google.com/assets/colab-badge.svg\" alt=\"Open In Colab\"/></a>"
      ]
    },
    {
      "cell_type": "markdown",
      "metadata": {
        "id": "b2pgDdpsl5Ye"
      },
      "source": [
        "**Part 1.** Load each json file into Python (obtaining a list of dictionaries for each) and perform the following: \n",
        "\n",
        "**a.**  discard any tweets that lack latitude (those without latitude will also lack longitude, and vice-versa)\n",
        " \n"
      ],
      "id": "b2pgDdpsl5Ye"
    },
    {
      "cell_type": "code",
      "metadata": {
        "id": "linear-landscape"
      },
      "source": [
        "import json\n",
        "\n",
        "def read_json(path):\n",
        "  with open(path) as file:\n",
        "    return json.load(file)\n",
        "\n",
        "america_latina = read_json('savedtweets_americalatina.json')\n",
        "machine_learning = read_json('savedtweets_machinelearning.json')\n",
        "super_league = read_json('savedtweets_superleague.json')\n",
        "weibo = read_json('savedtweets_weibo.json')"
      ],
      "id": "linear-landscape",
      "execution_count": 18,
      "outputs": []
    },
    {
      "cell_type": "code",
      "metadata": {
        "id": "YO852M99o6Je",
        "outputId": "2b2827cb-65d9-4dd9-e647-c0c7e96c533c",
        "colab": {
          "base_uri": "https://localhost:8080/"
        }
      },
      "source": [
        "for data in america_latina,machine_learning,super_league,weibo:\n",
        "  print(f'Total tweets: {len(data)}') "
      ],
      "id": "YO852M99o6Je",
      "execution_count": 21,
      "outputs": [
        {
          "output_type": "stream",
          "text": [
            "Total tweets: 100\n",
            "Total tweets: 100\n",
            "Total tweets: 100\n",
            "Total tweets: 100\n"
          ],
          "name": "stdout"
        }
      ]
    },
    {
      "cell_type": "code",
      "metadata": {
        "id": "IsWDLSUunhR5"
      },
      "source": [
        "america_latina = [tweet for tweet in america_latina if tweet.get('latitude')]\n",
        "machine_learning = [tweet for tweet in machine_learning  if tweet.get('latitude')]\n",
        "super_league = [tweet for tweet in super_league  if tweet.get('latitude')]\n",
        "weibo = [tweet for tweet in weibo  if tweet.get('latitude')]"
      ],
      "id": "IsWDLSUunhR5",
      "execution_count": 22,
      "outputs": []
    },
    {
      "cell_type": "code",
      "metadata": {
        "id": "MUyXiP4vpX1X",
        "outputId": "3417d565-03b6-4bc9-c2f7-744cadeecdcd",
        "colab": {
          "base_uri": "https://localhost:8080/"
        }
      },
      "source": [
        "for data in america_latina,machine_learning,super_league,weibo:\n",
        "  print(f'Total tweets: {len(data)}') "
      ],
      "id": "MUyXiP4vpX1X",
      "execution_count": 23,
      "outputs": [
        {
          "output_type": "stream",
          "text": [
            "Total tweets: 44\n",
            "Total tweets: 76\n",
            "Total tweets: 51\n",
            "Total tweets: 25\n"
          ],
          "name": "stdout"
        }
      ]
    },
    {
      "cell_type": "markdown",
      "metadata": {
        "id": "wK1V74MymEtP"
      },
      "source": [
        " b. Use the tweet-preprocessor to clean the text for each tweet using all available (default) options.\n",
        "For each collection, save the modified list of tweets back into a new json file with the name prep_tweets_class#.json, where # matches the order of json files cited above (0=…americalatina, 1= …machinelearning, 2=..superleague, 3=weibo).  You should have files savedtweets_class0.json, savedtweets_class1.json, savedtweets_class2.json, and savedtweets_class3.json at the end of the process\n"
      ],
      "id": "wK1V74MymEtP"
    },
    {
      "cell_type": "code",
      "metadata": {
        "id": "HqiCNXu_pe76",
        "outputId": "f3068a4c-286d-4ef9-b742-1fe5c40f80fd",
        "colab": {
          "base_uri": "https://localhost:8080/"
        }
      },
      "source": [
        "!pip install tweet-preprocessor\n",
        "import preprocessor as p\n",
        "\n",
        "def preprocess_tweets(tweet: dict) -> dict:\n",
        "  \"\"\"Preprocess tweets\"\"\"\n",
        "  tweet['text'] = p.clean(tweet['text'])\n",
        "  return tweet\n",
        "\n",
        "def write_json(file_name, tweets):\n",
        "  \"\"\"Save  python dictionary as json\"\"\"\n",
        "  with open(file_name, 'w') as f:\n",
        "    json.dump(tweets, f, indent=4)"
      ],
      "id": "HqiCNXu_pe76",
      "execution_count": 56,
      "outputs": [
        {
          "output_type": "stream",
          "text": [
            "Requirement already satisfied: tweet-preprocessor in /usr/local/lib/python3.7/dist-packages (0.6.0)\n"
          ],
          "name": "stdout"
        }
      ]
    },
    {
      "cell_type": "code",
      "metadata": {
        "id": "wz_TQkBBtCLR"
      },
      "source": [
        "json_list = [america_latina, machine_learning, super_league, weibo]"
      ],
      "id": "wz_TQkBBtCLR",
      "execution_count": 53,
      "outputs": []
    },
    {
      "cell_type": "code",
      "metadata": {
        "id": "5jJ0PDB-swcc"
      },
      "source": [
        "for count, json_data in enumerate(json_list):\n",
        "  tweets = list(map(preprocess_tweets, json_data))\n",
        "  write_json(f'savedtweets_class{count}.json', tweets)"
      ],
      "id": "5jJ0PDB-swcc",
      "execution_count": 58,
      "outputs": []
    },
    {
      "cell_type": "markdown",
      "metadata": {
        "id": "luMcwxEbvh1K"
      },
      "source": [
        "**Part 2.** For each modified collection of tweets (i.e. after the transformation from part 1) calculate the # tweets with positive, negative, and neutral sentiment and depict these on a simple bar plot.  You should have 3 bars per plot (one bar for positive, one bar for negative, one bar for neutral), and 4 plots total (one per tweet query class)."
      ],
      "id": "luMcwxEbvh1K"
    },
    {
      "cell_type": "code",
      "metadata": {
        "id": "x978DAULvoI3"
      },
      "source": [
        "from textblob import TextBlob\n",
        "import pandas as pd\n",
        "\n",
        "\n",
        "america_latina = read_json('savedtweets_class0.json')\n",
        "machine_learning = read_json('savedtweets_class1.json')\n",
        "super_league = read_json('savedtweets_class2.json')\n",
        "weibo = read_json('savedtweets_class3.json')\n",
        "tweet_list = [america_latina, machine_learning, super_league, weibo]\n",
        "tweets_topics = ['America Latina Tweets', 'Machine Learning Tweets', 'Super League Tweets', 'Weibo Tweets']"
      ],
      "id": "x978DAULvoI3",
      "execution_count": 206,
      "outputs": []
    },
    {
      "cell_type": "code",
      "metadata": {
        "id": "KyhakWZXwCF1"
      },
      "source": [
        "def determine_setiment(tweets: dict) -> dict:\n",
        "  sentiments = {'positive': 0, \n",
        "                       'neutral': 0,\n",
        "                       'negative': 0}\n",
        "  for tweet in tweets:\n",
        "      blob = TextBlob(tweet['text'])\n",
        "      if blob.sentiment.polarity > 0:\n",
        "        sentiments['positive'] += 1\n",
        "      elif blob.sentiment.polarity == 0:\n",
        "        sentiments['neutral'] += 1\n",
        "      else:\n",
        "        sentiments['negative'] += 1\n",
        "  return sentiments\n",
        "\n",
        "\n",
        "def plot_bar(data, topic):\n",
        "  \"\"\"Plot the trends\"\"\"\n",
        "  import matplotlib.pyplot as plt\n",
        "  %matplotlib inline\n",
        "  plt.figure(figsize=(6,3))\n",
        "  plt.style.use('ggplot')\n",
        "\n",
        "  x_val = data.keys()\n",
        "  y_val = data.values()\n",
        "\n",
        "  x_pos = [i for i, _ in enumerate(x_val)]\n",
        "\n",
        "  plt.bar(x_pos, y_val, color=['green', 'grey', 'red'])\n",
        "  plt.title(topic)\n",
        "  plt.xlabel('Sentiments')\n",
        "  plt.ylabel('Tweet volume')\n",
        "  plt.xticks(x_pos, x_val)\n",
        "  plt.show()"
      ],
      "id": "KyhakWZXwCF1",
      "execution_count": 191,
      "outputs": []
    },
    {
      "cell_type": "code",
      "metadata": {
        "id": "qEAvRSXW5ADj",
        "outputId": "b2b8cb23-5274-4679-eb26-a54a58bab16c",
        "colab": {
          "base_uri": "https://localhost:8080/",
          "height": 929
        }
      },
      "source": [
        "for tweets, topic in zip(tweet_list,tweets_topics):\n",
        "  plot_bar(determine_setiment(tweets), topic)"
      ],
      "id": "qEAvRSXW5ADj",
      "execution_count": 192,
      "outputs": [
        {
          "output_type": "display_data",
          "data": {
            "image/png": "[encoded data removed]",
            "text/plain": [
              "<Figure size 432x216 with 1 Axes>"
            ]
          },
          "metadata": {
            "tags": [],
            "needs_background": "light"
          }
        },
        {
          "output_type": "display_data",
          "data": {
            "image/png": "[encoded data removed]",
            "text/plain": [
              "<Figure size 432x216 with 1 Axes>"
            ]
          },
          "metadata": {
            "tags": [],
            "needs_background": "light"
          }
        },
        {
          "output_type": "display_data",
          "data": {
            "image/png": "[encoded data removed]",
            "text/plain": [
              "<Figure size 432x216 with 1 Axes>"
            ]
          },
          "metadata": {
            "tags": [],
            "needs_background": "light"
          }
        },
        {
          "output_type": "display_data",
          "data": {
            "image/png": "[encoded data removed]",
            "text/plain": [
              "<Figure size 432x216 with 1 Axes>"
            ]
          },
          "metadata": {
            "tags": [],
            "needs_background": "light"
          }
        }
      ]
    },
    {
      "cell_type": "code",
      "metadata": {
        "id": "_WuHkggT21vo",
        "outputId": "8e0fd01e-09ae-4783-c556-6a5ad850c486",
        "colab": {
          "base_uri": "https://localhost:8080/",
          "height": 309
        }
      },
      "source": [
        "tweets_volum = {topic:len(tweets)for tweets, topic in zip(tweet_list, tweets_topics)}\n",
        "pd.DataFrame(tweets_volum, index=['Volume']).plot.bar()"
      ],
      "id": "_WuHkggT21vo",
      "execution_count": 186,
      "outputs": [
        {
          "output_type": "execute_result",
          "data": {
            "text/plain": [
              "<matplotlib.axes._subplots.AxesSubplot at 0x7f8f0e954110>"
            ]
          },
          "metadata": {
            "tags": []
          },
          "execution_count": 186
        },
        {
          "output_type": "display_data",
          "data": {
            "image/png": "[encoded data removed]",
            "text/plain": [
              "<Figure size 432x288 with 1 Axes>"
            ]
          },
          "metadata": {
            "tags": []
          }
        }
      ]
    },
    {
      "cell_type": "markdown",
      "metadata": {
        "id": "WZ3AAG_379GG"
      },
      "source": [
        "**Part 3.** Pool together all modified tweets into a single list, but maintain a combined secondary list of equal size that dictates the class (0, 1, 2, or 3) to which each tweet belongs.  Ex: If there are 44 América Latina tweets at the beginning of the pooled list of tweets, the first 44 elements of the secondary list should be 0.    "
      ],
      "id": "WZ3AAG_379GG"
    },
    {
      "cell_type": "code",
      "metadata": {
        "id": "Af1-irlh78iz"
      },
      "source": [
        "all_tweets = []\n",
        "topics = []\n",
        "\n",
        "\n",
        "for topic, tweets in enumerate(tweet_list):\n",
        "  topics.extend([topic] * len(tweets))\n",
        "  all_tweets.extend(tweets)"
      ],
      "id": "Af1-irlh78iz",
      "execution_count": 216,
      "outputs": []
    },
    {
      "cell_type": "code",
      "metadata": {
        "id": "zqyiZiFU-air",
        "outputId": "45ea937e-4d43-4fbf-d97a-04278c7edbbe",
        "colab": {
          "base_uri": "https://localhost:8080/"
        }
      },
      "source": [
        "from collections import Counter\n",
        "print(f'Topic counts: {dict(Counter(topics))}')"
      ],
      "id": "zqyiZiFU-air",
      "execution_count": 217,
      "outputs": [
        {
          "output_type": "stream",
          "text": [
            "Topic counts: {0: 44, 1: 76, 2: 51, 3: 25}\n"
          ],
          "name": "stdout"
        }
      ]
    },
    {
      "cell_type": "code",
      "metadata": {
        "id": "AQOgMYD6-5sV",
        "outputId": "b1b769be-825a-43eb-d3ef-d93fb226365b",
        "colab": {
          "base_uri": "https://localhost:8080/"
        }
      },
      "source": [
        "print(f'Total tweets count: {len(all_tweets)}')"
      ],
      "id": "AQOgMYD6-5sV",
      "execution_count": 218,
      "outputs": [
        {
          "output_type": "stream",
          "text": [
            "Total tweets count: 196\n"
          ],
          "name": "stdout"
        }
      ]
    },
    {
      "cell_type": "markdown",
      "metadata": {
        "id": "si4fWz4w_Zgn"
      },
      "source": [
        "**Part 4.** Assume your combined lists each have a length of n.  Your next goal is to construct a n x 5 numpy feature array suited for machine learning, where each row matches the corresponding index in your lists, and the 5 columns represent the features for the tweet at that position as follows:\n",
        "Feature 1: The length of the tweet’s text.\n",
        "Feature 2: The tweet’s retweet count.\n",
        "Feature 3: The tweet’s latitude.\n",
        "Feature 4: The tweet’s longitude.\n",
        "Feature 5: one of two values as follows: 0 if the tweet is in English, or 100 otherwise.\n",
        "For example, the first row in your feature array may look like the below:\n"
      ],
      "id": "si4fWz4w_Zgn"
    },
    {
      "cell_type": "code",
      "metadata": {
        "id": "Mz3bE5l5_1gZ",
        "outputId": "d7133133-245f-4432-e15a-729f1fd06820",
        "colab": {
          "base_uri": "https://localhost:8080/",
          "height": 252
        }
      },
      "source": [
        "import numpy as np \n",
        "\n",
        "data = np.array([1,2,3])\n",
        "data = np.concatenate(data, np.array([4,5,6]))\n",
        "data"
      ],
      "id": "Mz3bE5l5_1gZ",
      "execution_count": 232,
      "outputs": [
        {
          "output_type": "error",
          "ename": "TypeError",
          "evalue": "ignored",
          "traceback": [
            "\u001b[0;31m---------------------------------------------------------------------------\u001b[0m",
            "\u001b[0;31mTypeError\u001b[0m                                 Traceback (most recent call last)",
            "\u001b[0;32m<ipython-input-232-54fc4d11266c>\u001b[0m in \u001b[0;36m<module>\u001b[0;34m()\u001b[0m\n\u001b[1;32m      2\u001b[0m \u001b[0;34m\u001b[0m\u001b[0m\n\u001b[1;32m      3\u001b[0m \u001b[0mdata\u001b[0m \u001b[0;34m=\u001b[0m \u001b[0mnp\u001b[0m\u001b[0;34m.\u001b[0m\u001b[0marray\u001b[0m\u001b[0;34m(\u001b[0m\u001b[0;34m[\u001b[0m\u001b[0;36m1\u001b[0m\u001b[0;34m,\u001b[0m\u001b[0;36m2\u001b[0m\u001b[0;34m,\u001b[0m\u001b[0;36m3\u001b[0m\u001b[0;34m]\u001b[0m\u001b[0;34m)\u001b[0m\u001b[0;34m\u001b[0m\u001b[0;34m\u001b[0m\u001b[0m\n\u001b[0;32m----> 4\u001b[0;31m \u001b[0mdata\u001b[0m \u001b[0;34m=\u001b[0m \u001b[0mnp\u001b[0m\u001b[0;34m.\u001b[0m\u001b[0mconcatenate\u001b[0m\u001b[0;34m(\u001b[0m\u001b[0mdata\u001b[0m\u001b[0;34m,\u001b[0m \u001b[0mnp\u001b[0m\u001b[0;34m.\u001b[0m\u001b[0marray\u001b[0m\u001b[0;34m(\u001b[0m\u001b[0;34m[\u001b[0m\u001b[0;36m4\u001b[0m\u001b[0;34m,\u001b[0m\u001b[0;36m5\u001b[0m\u001b[0;34m,\u001b[0m\u001b[0;36m6\u001b[0m\u001b[0;34m]\u001b[0m\u001b[0;34m)\u001b[0m\u001b[0;34m)\u001b[0m\u001b[0;34m\u001b[0m\u001b[0;34m\u001b[0m\u001b[0m\n\u001b[0m\u001b[1;32m      5\u001b[0m \u001b[0mdata\u001b[0m\u001b[0;34m\u001b[0m\u001b[0;34m\u001b[0m\u001b[0m\n",
            "\u001b[0;32m<__array_function__ internals>\u001b[0m in \u001b[0;36mconcatenate\u001b[0;34m(*args, **kwargs)\u001b[0m\n",
            "\u001b[0;31mTypeError\u001b[0m: only integer scalar arrays can be converted to a scalar index"
          ]
        }
      ]
    },
    {
      "cell_type": "code",
      "metadata": {
        "id": "UeRM5WkW_V79"
      },
      "source": [
        ""
      ],
      "id": "UeRM5WkW_V79",
      "execution_count": null,
      "outputs": []
    }
  ]
}