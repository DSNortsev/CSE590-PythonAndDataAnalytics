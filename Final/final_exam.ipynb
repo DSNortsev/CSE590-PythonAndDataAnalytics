{
  "nbformat": 4,
  "nbformat_minor": 5,
  "metadata": {
    "kernelspec": {
      "display_name": "Python 3",
      "language": "python",
      "name": "python3"
    },
    "language_info": {
      "codemirror_mode": {
        "name": "ipython",
        "version": 3
      },
      "file_extension": ".py",
      "mimetype": "text/x-python",
      "name": "python",
      "nbconvert_exporter": "python",
      "pygments_lexer": "ipython3",
      "version": "3.9.2"
    },
    "colab": {
      "name": "final_exam.ipynb",
      "provenance": [],
      "include_colab_link": true
    }
  },
  "cells": [
    {
      "cell_type": "markdown",
      "metadata": {
        "id": "view-in-github",
        "colab_type": "text"
      },
      "source": [
        "<a href=\"https://colab.research.google.com/github/DSNortsev/CSE590-PythonAndDataAnalytics/blob/main/Final/final_exam.ipynb\" target=\"_parent\"><img src=\"https://colab.research.google.com/assets/colab-badge.svg\" alt=\"Open In Colab\"/></a>"
      ]
    },
    {
      "cell_type": "markdown",
      "metadata": {
        "id": "b2pgDdpsl5Ye"
      },
      "source": [
        "**Part 1.** Load each json file into Python (obtaining a list of dictionaries for each) and perform the following: \n",
        "\n",
        "**a.**  discard any tweets that lack latitude (those without latitude will also lack longitude, and vice-versa)\n",
        " \n"
      ],
      "id": "b2pgDdpsl5Ye"
    },
    {
      "cell_type": "code",
      "metadata": {
        "id": "linear-landscape"
      },
      "source": [
        "import json\n",
        "\n",
        "def read_json(path):\n",
        "  with open(path) as file:\n",
        "    return json.load(file)\n",
        "\n",
        "america_latina = read_json('savedtweets_americalatina.json')\n",
        "machine_learning = read_json('savedtweets_machinelearning.json')\n",
        "super_league = read_json('savedtweets_superleague.json')\n",
        "weibo = read_json('savedtweets_weibo.json')"
      ],
      "id": "linear-landscape",
      "execution_count": 18,
      "outputs": []
    },
    {
      "cell_type": "code",
      "metadata": {
        "colab": {
          "base_uri": "https://localhost:8080/"
        },
        "id": "YO852M99o6Je",
        "outputId": "2b2827cb-65d9-4dd9-e647-c0c7e96c533c"
      },
      "source": [
        "for data in america_latina,machine_learning,super_league,weibo:\n",
        "  print(f'Total tweets: {len(data)}') "
      ],
      "id": "YO852M99o6Je",
      "execution_count": 21,
      "outputs": [
        {
          "output_type": "stream",
          "text": [
            "Total tweets: 100\n",
            "Total tweets: 100\n",
            "Total tweets: 100\n",
            "Total tweets: 100\n"
          ],
          "name": "stdout"
        }
      ]
    },
    {
      "cell_type": "code",
      "metadata": {
        "id": "IsWDLSUunhR5"
      },
      "source": [
        "america_latina = [tweet for tweet in america_latina if tweet.get('latitude')]\n",
        "machine_learning = [tweet for tweet in machine_learning  if tweet.get('latitude')]\n",
        "super_league = [tweet for tweet in super_league  if tweet.get('latitude')]\n",
        "weibo = [tweet for tweet in weibo  if tweet.get('latitude')]"
      ],
      "id": "IsWDLSUunhR5",
      "execution_count": 22,
      "outputs": []
    },
    {
      "cell_type": "code",
      "metadata": {
        "colab": {
          "base_uri": "https://localhost:8080/"
        },
        "id": "MUyXiP4vpX1X",
        "outputId": "3417d565-03b6-4bc9-c2f7-744cadeecdcd"
      },
      "source": [
        "for data in america_latina,machine_learning,super_league,weibo:\n",
        "  print(f'Total tweets: {len(data)}') "
      ],
      "id": "MUyXiP4vpX1X",
      "execution_count": 23,
      "outputs": [
        {
          "output_type": "stream",
          "text": [
            "Total tweets: 44\n",
            "Total tweets: 76\n",
            "Total tweets: 51\n",
            "Total tweets: 25\n"
          ],
          "name": "stdout"
        }
      ]
    },
    {
      "cell_type": "markdown",
      "metadata": {
        "id": "wK1V74MymEtP"
      },
      "source": [
        " b. Use the tweet-preprocessor to clean the text for each tweet using all available (default) options.\n",
        "For each collection, save the modified list of tweets back into a new json file with the name prep_tweets_class#.json, where # matches the order of json files cited above (0=…americalatina, 1= …machinelearning, 2=..superleague, 3=weibo).  You should have files savedtweets_class0.json, savedtweets_class1.json, savedtweets_class2.json, and savedtweets_class3.json at the end of the process\n"
      ],
      "id": "wK1V74MymEtP"
    },
    {
      "cell_type": "code",
      "metadata": {
        "colab": {
          "base_uri": "https://localhost:8080/"
        },
        "id": "HqiCNXu_pe76",
        "outputId": "43620018-d462-4c62-e7f7-eb89023b490e"
      },
      "source": [
        "!pip install tweet-preprocessor\n",
        "import preprocessor as p\n",
        "p.set_options(p.OPT.URL, p.OPT.MENTION, p.OPT.HASHTAG,\n",
        "              p.OPT.RESERVED, p.OPT.EMOJI, p.OPT.SMILEY, p.OPT.NUMBER)\n",
        "\n",
        "# Option Name \tOption Short Code\n",
        "# URL \tp.OPT.URL\n",
        "# Mention \tp.OPT.MENTION\n",
        "# Hashtag \tp.OPT.HASHTAG\n",
        "# Reserved Words \tp.OPT.RESERVED\n",
        "# Emoji \tp.OPT.EMOJI\n",
        "# Smiley \tp.OPT.SMILEY\n",
        "# Number \tp.OPT.NUMBER\n",
        "\n",
        "def preprocess_tweets(tweet: dict) -> dict:\n",
        "  \"\"\"Preprocess tweets\"\"\"\n",
        "  tweet['text'] = p.clean(tweet['text'])\n",
        "  return tweet\n",
        "\n",
        "def write_json(file_name, tweets):\n",
        "  \"\"\"Save  python dictionary as json\"\"\"\n",
        "  with open(file_name, 'w') as f:\n",
        "    json.dump(tweets, f, indent=4)"
      ],
      "id": "HqiCNXu_pe76",
      "execution_count": 241,
      "outputs": [
        {
          "output_type": "stream",
          "text": [
            "Requirement already satisfied: tweet-preprocessor in /usr/local/lib/python3.7/dist-packages (0.6.0)\n"
          ],
          "name": "stdout"
        }
      ]
    },
    {
      "cell_type": "code",
      "metadata": {
        "id": "wz_TQkBBtCLR"
      },
      "source": [
        "json_list = [america_latina, machine_learning, super_league, weibo]"
      ],
      "id": "wz_TQkBBtCLR",
      "execution_count": 242,
      "outputs": []
    },
    {
      "cell_type": "code",
      "metadata": {
        "id": "5jJ0PDB-swcc"
      },
      "source": [
        "for count, json_data in enumerate(json_list):\n",
        "  tweets = list(map(preprocess_tweets, json_data))\n",
        "  write_json(f'savedtweets_class{count}.json', tweets)"
      ],
      "id": "5jJ0PDB-swcc",
      "execution_count": 243,
      "outputs": []
    },
    {
      "cell_type": "markdown",
      "metadata": {
        "id": "luMcwxEbvh1K"
      },
      "source": [
        "**Part 2.** For each modified collection of tweets (i.e. after the transformation from part 1) calculate the # tweets with positive, negative, and neutral sentiment and depict these on a simple bar plot.  You should have 3 bars per plot (one bar for positive, one bar for negative, one bar for neutral), and 4 plots total (one per tweet query class)."
      ],
      "id": "luMcwxEbvh1K"
    },
    {
      "cell_type": "code",
      "metadata": {
        "id": "x978DAULvoI3"
      },
      "source": [
        "from textblob import TextBlob\n",
        "import pandas as pd\n",
        "\n",
        "\n",
        "america_latina = read_json('savedtweets_class0.json')\n",
        "machine_learning = read_json('savedtweets_class1.json')\n",
        "super_league = read_json('savedtweets_class2.json')\n",
        "weibo = read_json('savedtweets_class3.json')\n",
        "tweet_list = [america_latina, machine_learning, super_league, weibo]\n",
        "tweets_topics = ['America Latina Tweets', 'Machine Learning Tweets', 'Super League Tweets', 'Weibo Tweets']"
      ],
      "id": "x978DAULvoI3",
      "execution_count": 244,
      "outputs": []
    },
    {
      "cell_type": "code",
      "metadata": {
        "id": "KyhakWZXwCF1"
      },
      "source": [
        "def determine_setiment(tweets: dict) -> dict:\n",
        "  sentiments = {'positive': 0, \n",
        "                       'neutral': 0,\n",
        "                       'negative': 0}\n",
        "  for tweet in tweets:\n",
        "      blob = TextBlob(tweet['text'])\n",
        "      if blob.sentiment.polarity > 0:\n",
        "        sentiments['positive'] += 1\n",
        "      elif blob.sentiment.polarity == 0:\n",
        "        sentiments['neutral'] += 1\n",
        "      else:\n",
        "        sentiments['negative'] += 1\n",
        "  return sentiments\n",
        "\n",
        "\n",
        "def plot_bar(data, topic):\n",
        "  \"\"\"Plot the trends\"\"\"\n",
        "  import matplotlib.pyplot as plt\n",
        "  %matplotlib inline\n",
        "  plt.figure(figsize=(6,3))\n",
        "  plt.style.use('ggplot')\n",
        "\n",
        "  x_val = data.keys()\n",
        "  y_val = data.values()\n",
        "\n",
        "  x_pos = [i for i, _ in enumerate(x_val)]\n",
        "\n",
        "  plt.bar(x_pos, y_val, color=['green', 'grey', 'red'])\n",
        "  plt.title(topic)\n",
        "  plt.xlabel('Sentiments')\n",
        "  plt.ylabel('Tweet volume')\n",
        "  plt.xticks(x_pos, x_val)\n",
        "  plt.show()"
      ],
      "id": "KyhakWZXwCF1",
      "execution_count": 245,
      "outputs": []
    },
    {
      "cell_type": "code",
      "metadata": {
        "colab": {
          "base_uri": "https://localhost:8080/",
          "height": 929
        },
        "id": "qEAvRSXW5ADj",
        "outputId": "f4a54b58-60e4-4bf6-b05b-65f9f8e752e0"
      },
      "source": [
        "for tweets, topic in zip(tweet_list,tweets_topics):\n",
        "  plot_bar(determine_setiment(tweets), topic)"
      ],
      "id": "qEAvRSXW5ADj",
      "execution_count": 246,
      "outputs": [
        {
          "output_type": "display_data",
          "data": {
            "image/png": "[encoded data removed]",
            "text/plain": [
              "<Figure size 432x216 with 1 Axes>"
            ]
          },
          "metadata": {
            "tags": [],
            "needs_background": "light"
          }
        },
        {
          "output_type": "display_data",
          "data": {
            "image/png": "[encoded data removed]",
            "text/plain": [
              "<Figure size 432x216 with 1 Axes>"
            ]
          },
          "metadata": {
            "tags": [],
            "needs_background": "light"
          }
        },
        {
          "output_type": "display_data",
          "data": {
            "image/png": "[encoded data removed]",
            "text/plain": [
              "<Figure size 432x216 with 1 Axes>"
            ]
          },
          "metadata": {
            "tags": [],
            "needs_background": "light"
          }
        },
        {
          "output_type": "display_data",
          "data": {
            "image/png": "[encoded data removed]",
            "text/plain": [
              "<Figure size 432x216 with 1 Axes>"
            ]
          },
          "metadata": {
            "tags": [],
            "needs_background": "light"
          }
        }
      ]
    },
    {
      "cell_type": "code",
      "metadata": {
        "colab": {
          "base_uri": "https://localhost:8080/",
          "height": 309
        },
        "id": "_WuHkggT21vo",
        "outputId": "811e1e73-8ed3-4952-c96b-ef546d21f56a"
      },
      "source": [
        "tweets_volum = {topic:len(tweets)for tweets, topic in zip(tweet_list, tweets_topics)}\n",
        "pd.DataFrame(tweets_volum, index=['Volume']).plot.bar()"
      ],
      "id": "_WuHkggT21vo",
      "execution_count": 247,
      "outputs": [
        {
          "output_type": "execute_result",
          "data": {
            "text/plain": [
              "<matplotlib.axes._subplots.AxesSubplot at 0x7f8f0e748090>"
            ]
          },
          "metadata": {
            "tags": []
          },
          "execution_count": 247
        },
        {
          "output_type": "display_data",
          "data": {
            "image/png": "[encoded data removed]",
            "text/plain": [
              "<Figure size 432x288 with 1 Axes>"
            ]
          },
          "metadata": {
            "tags": []
          }
        }
      ]
    },
    {
      "cell_type": "markdown",
      "metadata": {
        "id": "WZ3AAG_379GG"
      },
      "source": [
        "**Part 3.** Pool together all modified tweets into a single list, but maintain a combined secondary list of equal size that dictates the class (0, 1, 2, or 3) to which each tweet belongs.  Ex: If there are 44 América Latina tweets at the beginning of the pooled list of tweets, the first 44 elements of the secondary list should be 0.    "
      ],
      "id": "WZ3AAG_379GG"
    },
    {
      "cell_type": "code",
      "metadata": {
        "id": "Af1-irlh78iz"
      },
      "source": [
        "all_tweets = []\n",
        "topics = []\n",
        "\n",
        "\n",
        "for topic, tweets in enumerate(tweet_list):\n",
        "  topics.extend([topic] * len(tweets))\n",
        "  all_tweets.extend(tweets)"
      ],
      "id": "Af1-irlh78iz",
      "execution_count": 248,
      "outputs": []
    },
    {
      "cell_type": "code",
      "metadata": {
        "colab": {
          "base_uri": "https://localhost:8080/"
        },
        "id": "zqyiZiFU-air",
        "outputId": "f3182b77-8b94-47c9-a936-997c33ed388d"
      },
      "source": [
        "from collections import Counter\n",
        "print(f'Topic counts: {dict(Counter(topics))}')"
      ],
      "id": "zqyiZiFU-air",
      "execution_count": 249,
      "outputs": [
        {
          "output_type": "stream",
          "text": [
            "Topic counts: {0: 44, 1: 76, 2: 51, 3: 25}\n"
          ],
          "name": "stdout"
        }
      ]
    },
    {
      "cell_type": "code",
      "metadata": {
        "colab": {
          "base_uri": "https://localhost:8080/"
        },
        "id": "AQOgMYD6-5sV",
        "outputId": "e9ee505d-b1a0-46a8-f89a-de5aaca0b253"
      },
      "source": [
        "print(f'Total tweets count: {len(all_tweets)}')"
      ],
      "id": "AQOgMYD6-5sV",
      "execution_count": 250,
      "outputs": [
        {
          "output_type": "stream",
          "text": [
            "Total tweets count: 196\n"
          ],
          "name": "stdout"
        }
      ]
    },
    {
      "cell_type": "code",
      "metadata": {
        "id": "B51AsjCjD1fl",
        "outputId": "ea936a17-62ab-4802-adb0-3c2820e42130",
        "colab": {
          "base_uri": "https://localhost:8080/"
        }
      },
      "source": [
        "all_tweets[50]"
      ],
      "id": "B51AsjCjD1fl",
      "execution_count": 251,
      "outputs": [
        {
          "output_type": "execute_result",
          "data": {
            "text/plain": [
              "{'lang': 'en',\n",
              " 'latitude': 53.4791301,\n",
              " 'location': 'Manchester, England',\n",
              " 'longitude': -2.2441009,\n",
              " 'retweet_count': 524,\n",
              " 'screen_name': 'BuanaFrank3',\n",
              " 'text': ': ElectrifAi Achieves AWS Machine Learning Competency Status in Applied AI - PRNewswire Read more here:'}"
            ]
          },
          "metadata": {
            "tags": []
          },
          "execution_count": 251
        }
      ]
    },
    {
      "cell_type": "markdown",
      "metadata": {
        "id": "si4fWz4w_Zgn"
      },
      "source": [
        "**Part 4.** Assume your combined lists each have a length of n.  Your next goal is to construct a n x 5 numpy feature array suited for machine learning, where each row matches the corresponding index in your lists, and the 5 columns represent the features for the tweet at that position as follows:\n",
        "\n",
        "Feature 1: The length of the tweet’s text.\n",
        "\n",
        "Feature 2: The tweet’s retweet count.\n",
        "\n",
        "Feature 3: The tweet’s latitude.\n",
        "\n",
        "Feature 4: The tweet’s longitude.\n",
        "\n",
        "Feature 5: one of two values as follows: 0 if the tweet is in English, or 100 otherwise.\n",
        "\n",
        "For example, the first row in your feature array may look like the below:\n"
      ],
      "id": "si4fWz4w_Zgn"
    },
    {
      "cell_type": "code",
      "metadata": {
        "id": "Mz3bE5l5_1gZ"
      },
      "source": [
        "import numpy as np \n",
        "\n",
        "# Initiate empty numpoy array\n",
        "data = np.array([])\n",
        "for tweet in all_tweets:\n",
        "  lang =  1 if tweet['lang'] == 'en' else 100\n",
        "  tweet_data = np.array([len(tweet['text']), tweet['retweet_count'], tweet['latitude'],\n",
        "        tweet['longitude'], lang])\n",
        "  if not np.size(data):\n",
        "    # if numpy array size is zero insert horizontally\n",
        "    data = np.hstack((data, tweet_data))\n",
        "  # Append numpy array vertically\n",
        "  data = np.vstack((data, tweet_data))"
      ],
      "id": "Mz3bE5l5_1gZ",
      "execution_count": 270,
      "outputs": []
    },
    {
      "cell_type": "code",
      "metadata": {
        "colab": {
          "base_uri": "https://localhost:8080/"
        },
        "id": "UeRM5WkW_V79",
        "outputId": "614b6b45-6fa7-41c9-bbb8-acaa28214f7a"
      },
      "source": [
        "data[0]"
      ],
      "id": "UeRM5WkW_V79",
      "execution_count": 275,
      "outputs": [
        {
          "output_type": "execute_result",
          "data": {
            "text/plain": [
              "array([ 80.        ,   1.        ,  46.2380576 ,   6.15323095,\n",
              "       100.        ])"
            ]
          },
          "metadata": {
            "tags": []
          },
          "execution_count": 275
        }
      ]
    },
    {
      "cell_type": "markdown",
      "metadata": {
        "id": "_1G3XfhFKWp5"
      },
      "source": [
        "**Part 5.** Convert your secondary list of classes into an array, and then perform 10-fold cross-validation using three distinct classification estimators (either the ones we used in class, or those of your own choosing) to determine the accuracy available in using our features from part 4 in predicting the class of tweets."
      ],
      "id": "_1G3XfhFKWp5"
    },
    {
      "cell_type": "code",
      "metadata": {
        "id": "VzF599G9KfZn",
        "outputId": "a92777cb-9bc3-4be3-d968-66fc99b9b8f4",
        "colab": {
          "base_uri": "https://localhost:8080/"
        }
      },
      "source": [
        "# Convert pythin list to numpy array\n",
        "topics = np.array(topics)\n",
        "topics"
      ],
      "id": "VzF599G9KfZn",
      "execution_count": 276,
      "outputs": [
        {
          "output_type": "execute_result",
          "data": {
            "text/plain": [
              "array([0, 0, 0, 0, 0, 0, 0, 0, 0, 0, 0, 0, 0, 0, 0, 0, 0, 0, 0, 0, 0, 0,\n",
              "       0, 0, 0, 0, 0, 0, 0, 0, 0, 0, 0, 0, 0, 0, 0, 0, 0, 0, 0, 0, 0, 0,\n",
              "       1, 1, 1, 1, 1, 1, 1, 1, 1, 1, 1, 1, 1, 1, 1, 1, 1, 1, 1, 1, 1, 1,\n",
              "       1, 1, 1, 1, 1, 1, 1, 1, 1, 1, 1, 1, 1, 1, 1, 1, 1, 1, 1, 1, 1, 1,\n",
              "       1, 1, 1, 1, 1, 1, 1, 1, 1, 1, 1, 1, 1, 1, 1, 1, 1, 1, 1, 1, 1, 1,\n",
              "       1, 1, 1, 1, 1, 1, 1, 1, 1, 1, 2, 2, 2, 2, 2, 2, 2, 2, 2, 2, 2, 2,\n",
              "       2, 2, 2, 2, 2, 2, 2, 2, 2, 2, 2, 2, 2, 2, 2, 2, 2, 2, 2, 2, 2, 2,\n",
              "       2, 2, 2, 2, 2, 2, 2, 2, 2, 2, 2, 2, 2, 2, 2, 2, 2, 3, 3, 3, 3, 3,\n",
              "       3, 3, 3, 3, 3, 3, 3, 3, 3, 3, 3, 3, 3, 3, 3, 3, 3, 3, 3, 3])"
            ]
          },
          "metadata": {
            "tags": []
          },
          "execution_count": 276
        }
      ]
    },
    {
      "cell_type": "markdown",
      "metadata": {
        "id": "zBlbcHiGKqXP"
      },
      "source": [
        "**Part 6.** Using the t-SNE estimator to compress our features into 2 dimensions, visualize the tweets on a scatter-plot with 4 different colors for 4 different classes.  Briefly comment (inline code comments are fine) on where you see distinct clusters of classes on the plot, and where you do not see any distinction."
      ],
      "id": "zBlbcHiGKqXP"
    }
  ]
}