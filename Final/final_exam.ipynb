{
  "nbformat": 4,
  "nbformat_minor": 5,
  "metadata": {
    "kernelspec": {
      "display_name": "Python 3",
      "language": "python",
      "name": "python3"
    },
    "language_info": {
      "codemirror_mode": {
        "name": "ipython",
        "version": 3
      },
      "file_extension": ".py",
      "mimetype": "text/x-python",
      "name": "python",
      "nbconvert_exporter": "python",
      "pygments_lexer": "ipython3",
      "version": "3.9.2"
    },
    "colab": {
      "name": "final_exam.ipynb",
      "provenance": [],
      "include_colab_link": true
    }
  },
  "cells": [
    {
      "cell_type": "markdown",
      "metadata": {
        "id": "view-in-github",
        "colab_type": "text"
      },
      "source": [
        "<a href=\"https://colab.research.google.com/github/DSNortsev/CSE590-PythonAndDataAnalytics/blob/main/Final/final_exam.ipynb\" target=\"_parent\"><img src=\"https://colab.research.google.com/assets/colab-badge.svg\" alt=\"Open In Colab\"/></a>"
      ]
    },
    {
      "cell_type": "markdown",
      "metadata": {
        "id": "b2pgDdpsl5Ye"
      },
      "source": [
        "**Part 1.** Load each json file into Python (obtaining a list of dictionaries for each) and perform the following: \n",
        "\n",
        "**a.**  discard any tweets that lack latitude (those without latitude will also lack longitude, and vice-versa)\n",
        " \n"
      ],
      "id": "b2pgDdpsl5Ye"
    },
    {
      "cell_type": "code",
      "metadata": {
        "id": "linear-landscape"
      },
      "source": [
        "import json\n",
        "\n",
        "def read_json(path):\n",
        "  \"\"\"Read json file and convert to python dict\"\"\"\n",
        "  with open(path) as file:\n",
        "    return json.load(file)\n",
        "\n",
        "america_latina = read_json('savedtweets_americalatina.json')\n",
        "machine_learning = read_json('savedtweets_machinelearning.json')\n",
        "super_league = read_json('savedtweets_superleague.json')\n",
        "weibo = read_json('savedtweets_weibo.json')"
      ],
      "id": "linear-landscape",
      "execution_count": 3,
      "outputs": []
    },
    {
      "cell_type": "code",
      "metadata": {
        "colab": {
          "base_uri": "https://localhost:8080/"
        },
        "id": "YO852M99o6Je",
        "outputId": "2c843700-3fca-4357-97c7-9a1259b6be20"
      },
      "source": [
        "for data in america_latina,machine_learning,super_league,weibo:\n",
        "  print(f'Total tweets: {len(data)}') "
      ],
      "id": "YO852M99o6Je",
      "execution_count": 4,
      "outputs": [
        {
          "output_type": "stream",
          "text": [
            "Total tweets: 100\n",
            "Total tweets: 100\n",
            "Total tweets: 100\n",
            "Total tweets: 100\n"
          ],
          "name": "stdout"
        }
      ]
    },
    {
      "cell_type": "code",
      "metadata": {
        "id": "IsWDLSUunhR5"
      },
      "source": [
        "america_latina = [tweet for tweet in america_latina if tweet.get('latitude')]\n",
        "machine_learning = [tweet for tweet in machine_learning  if tweet.get('latitude')]\n",
        "super_league = [tweet for tweet in super_league  if tweet.get('latitude')]\n",
        "weibo = [tweet for tweet in weibo  if tweet.get('latitude')]"
      ],
      "id": "IsWDLSUunhR5",
      "execution_count": 5,
      "outputs": []
    },
    {
      "cell_type": "code",
      "metadata": {
        "colab": {
          "base_uri": "https://localhost:8080/"
        },
        "id": "MUyXiP4vpX1X",
        "outputId": "6ba9d30f-b7ac-4f96-eef7-8cbc3574cc22"
      },
      "source": [
        "for data in america_latina,machine_learning,super_league,weibo:\n",
        "  print(f'Total tweets: {len(data)}') "
      ],
      "id": "MUyXiP4vpX1X",
      "execution_count": 6,
      "outputs": [
        {
          "output_type": "stream",
          "text": [
            "Total tweets: 44\n",
            "Total tweets: 76\n",
            "Total tweets: 51\n",
            "Total tweets: 25\n"
          ],
          "name": "stdout"
        }
      ]
    },
    {
      "cell_type": "markdown",
      "metadata": {
        "id": "wK1V74MymEtP"
      },
      "source": [
        " b. Use the tweet-preprocessor to clean the text for each tweet using all available (default) options.\n",
        "For each collection, save the modified list of tweets back into a new json file with the name prep_tweets_class#.json, where # matches the order of json files cited above (0=…americalatina, 1= …machinelearning, 2=..superleague, 3=weibo).  You should have files savedtweets_class0.json, savedtweets_class1.json, savedtweets_class2.json, and savedtweets_class3.json at the end of the process\n"
      ],
      "id": "wK1V74MymEtP"
    },
    {
      "cell_type": "code",
      "metadata": {
        "colab": {
          "base_uri": "https://localhost:8080/"
        },
        "id": "HqiCNXu_pe76",
        "outputId": "91091635-9f9b-4262-b04c-42763e1d03ac"
      },
      "source": [
        "!pip install tweet-preprocessor\n",
        "import preprocessor as p\n",
        "# Set all available options  to pre-processing\n",
        "p.set_options(p.OPT.URL, p.OPT.MENTION, p.OPT.HASHTAG,\n",
        "              p.OPT.RESERVED, p.OPT.EMOJI, p.OPT.SMILEY, p.OPT.NUMBER)\n",
        "\n",
        "# Option Name \tOption Short Code\n",
        "# URL \tp.OPT.URL\n",
        "# Mention \tp.OPT.MENTION\n",
        "# Hashtag \tp.OPT.HASHTAG\n",
        "# Reserved Words \tp.OPT.RESERVED\n",
        "# Emoji \tp.OPT.EMOJI\n",
        "# Smiley \tp.OPT.SMILEY\n",
        "# Number \tp.OPT.NUMBER\n",
        "\n",
        "def preprocess_tweets(tweet: dict) -> dict:\n",
        "  \"\"\"Preprocess tweets\"\"\"\n",
        "  tweet['text'] = p.clean(tweet['text'])\n",
        "  return tweet\n",
        "\n",
        "def write_json(file_name, tweets):\n",
        "  \"\"\"Save  python dictionary as json file\"\"\"\n",
        "  with open(file_name, 'w') as f:\n",
        "    json.dump(tweets, f, indent=4)"
      ],
      "id": "HqiCNXu_pe76",
      "execution_count": 7,
      "outputs": [
        {
          "output_type": "stream",
          "text": [
            "Collecting tweet-preprocessor\n",
            "  Downloading https://files.pythonhosted.org/packages/17/9d/71bd016a9edcef8860c607e531f30bd09b13103c7951ae73dd2bf174163c/tweet_preprocessor-0.6.0-py3-none-any.whl\n",
            "Installing collected packages: tweet-preprocessor\n",
            "Successfully installed tweet-preprocessor-0.6.0\n"
          ],
          "name": "stdout"
        }
      ]
    },
    {
      "cell_type": "code",
      "metadata": {
        "id": "wz_TQkBBtCLR"
      },
      "source": [
        "json_list = [america_latina, machine_learning, super_league, weibo]"
      ],
      "id": "wz_TQkBBtCLR",
      "execution_count": 8,
      "outputs": []
    },
    {
      "cell_type": "code",
      "metadata": {
        "id": "5jJ0PDB-swcc"
      },
      "source": [
        "for count, json_data in enumerate(json_list):\n",
        "  tweets = list(map(preprocess_tweets, json_data))\n",
        "  write_json(f'savedtweets_class{count}.json', tweets)"
      ],
      "id": "5jJ0PDB-swcc",
      "execution_count": 9,
      "outputs": []
    },
    {
      "cell_type": "markdown",
      "metadata": {
        "id": "luMcwxEbvh1K"
      },
      "source": [
        "**Part 2.** For each modified collection of tweets (i.e. after the transformation from part 1) calculate the # tweets with positive, negative, and neutral sentiment and depict these on a simple bar plot.  You should have 3 bars per plot (one bar for positive, one bar for negative, one bar for neutral), and 4 plots total (one per tweet query class)."
      ],
      "id": "luMcwxEbvh1K"
    },
    {
      "cell_type": "code",
      "metadata": {
        "id": "x978DAULvoI3"
      },
      "source": [
        "from textblob import TextBlob\n",
        "import pandas as pd\n",
        "\n",
        "\n",
        "america_latina = read_json('savedtweets_class0.json')\n",
        "machine_learning = read_json('savedtweets_class1.json')\n",
        "super_league = read_json('savedtweets_class2.json')\n",
        "weibo = read_json('savedtweets_class3.json')\n",
        "tweet_list = [america_latina, machine_learning, super_league, weibo]\n",
        "tweets_topics = ['America Latina Tweets', 'Machine Learning Tweets', 'Super League Tweets', 'Weibo Tweets']"
      ],
      "id": "x978DAULvoI3",
      "execution_count": 10,
      "outputs": []
    },
    {
      "cell_type": "code",
      "metadata": {
        "id": "KyhakWZXwCF1"
      },
      "source": [
        "def determine_setiment(tweets: dict) -> dict:\n",
        "  \"\"\"Determine tweet's sentiment\"\"\"\n",
        "  sentiments = {'positive': 0, \n",
        "                       'neutral': 0,\n",
        "                       'negative': 0}\n",
        "  for tweet in tweets:\n",
        "      blob = TextBlob(tweet['text'])\n",
        "      if blob.sentiment.polarity > 0:\n",
        "        sentiments['positive'] += 1\n",
        "      elif blob.sentiment.polarity == 0:\n",
        "        sentiments['neutral'] += 1\n",
        "      else:\n",
        "        sentiments['negative'] += 1\n",
        "  return sentiments\n",
        "\n",
        "\n",
        "def plot_bar(data, topic):\n",
        "  \"\"\"Plot tweets\"\"\"\n",
        "  import matplotlib.pyplot as plt\n",
        "  %matplotlib inline\n",
        "  plt.figure(figsize=(6,3))\n",
        "  plt.style.use('ggplot')\n",
        "\n",
        "  x_val = data.keys()\n",
        "  y_val = data.values()\n",
        "\n",
        "  x_pos = [i for i, _ in enumerate(x_val)]\n",
        "\n",
        "  plt.bar(x_pos, y_val, color=['green', 'grey', 'red'])\n",
        "  plt.title(topic)\n",
        "  plt.xlabel('Sentiments')\n",
        "  plt.ylabel('Tweet volume')\n",
        "  plt.xticks(x_pos, x_val)\n",
        "  plt.show()"
      ],
      "id": "KyhakWZXwCF1",
      "execution_count": 11,
      "outputs": []
    },
    {
      "cell_type": "code",
      "metadata": {
        "colab": {
          "base_uri": "https://localhost:8080/",
          "height": 929
        },
        "id": "qEAvRSXW5ADj",
        "outputId": "bfa01d1d-3644-4f54-98d3-77e8dce8496d"
      },
      "source": [
        "for tweets, topic in zip(tweet_list,tweets_topics):\n",
        "  plot_bar(determine_setiment(tweets), topic)"
      ],
      "id": "qEAvRSXW5ADj",
      "execution_count": 12,
      "outputs": [
        {
          "output_type": "display_data",
          "data": {
            "image/png": "[encoded data removed]",
            "text/plain": [
              "<Figure size 432x216 with 1 Axes>"
            ]
          },
          "metadata": {
            "tags": [],
            "needs_background": "light"
          }
        },
        {
          "output_type": "display_data",
          "data": {
            "image/png": "[encoded data removed]",
            "text/plain": [
              "<Figure size 432x216 with 1 Axes>"
            ]
          },
          "metadata": {
            "tags": [],
            "needs_background": "light"
          }
        },
        {
          "output_type": "display_data",
          "data": {
            "image/png": "[encoded data removed]",
            "text/plain": [
              "<Figure size 432x216 with 1 Axes>"
            ]
          },
          "metadata": {
            "tags": [],
            "needs_background": "light"
          }
        },
        {
          "output_type": "display_data",
          "data": {
            "image/png": "[encoded data removed]",
            "text/plain": [
              "<Figure size 432x216 with 1 Axes>"
            ]
          },
          "metadata": {
            "tags": [],
            "needs_background": "light"
          }
        }
      ]
    },
    {
      "cell_type": "code",
      "metadata": {
        "colab": {
          "base_uri": "https://localhost:8080/",
          "height": 309
        },
        "id": "_WuHkggT21vo",
        "outputId": "b59deb03-2531-4c53-ed27-60493e177b7d"
      },
      "source": [
        "tweets_volum = {topic:len(tweets)for tweets, topic in zip(tweet_list, tweets_topics)}\n",
        "pd.DataFrame(tweets_volum, index=['Volume']).plot.bar()"
      ],
      "id": "_WuHkggT21vo",
      "execution_count": 13,
      "outputs": [
        {
          "output_type": "execute_result",
          "data": {
            "text/plain": [
              "<matplotlib.axes._subplots.AxesSubplot at 0x7f0a09bac350>"
            ]
          },
          "metadata": {
            "tags": []
          },
          "execution_count": 13
        },
        {
          "output_type": "display_data",
          "data": {
            "image/png": "[encoded data removed]",
            "text/plain": [
              "<Figure size 432x288 with 1 Axes>"
            ]
          },
          "metadata": {
            "tags": []
          }
        }
      ]
    },
    {
      "cell_type": "markdown",
      "metadata": {
        "id": "WZ3AAG_379GG"
      },
      "source": [
        "**Part 3.** Pool together all modified tweets into a single list, but maintain a combined secondary list of equal size that dictates the class (0, 1, 2, or 3) to which each tweet belongs.  Ex: If there are 44 América Latina tweets at the beginning of the pooled list of tweets, the first 44 elements of the secondary list should be 0.    "
      ],
      "id": "WZ3AAG_379GG"
    },
    {
      "cell_type": "code",
      "metadata": {
        "id": "Af1-irlh78iz"
      },
      "source": [
        "all_tweets = []\n",
        "topics = []\n",
        "\n",
        "for topic, tweets in enumerate(tweet_list):\n",
        "  topics.extend([topic] * len(tweets))\n",
        "  all_tweets.extend(tweets)"
      ],
      "id": "Af1-irlh78iz",
      "execution_count": 14,
      "outputs": []
    },
    {
      "cell_type": "code",
      "metadata": {
        "colab": {
          "base_uri": "https://localhost:8080/"
        },
        "id": "zqyiZiFU-air",
        "outputId": "6eeacd99-1d84-41cc-f796-5bb2dc7b357b"
      },
      "source": [
        "from collections import Counter\n",
        "print(f'Topic counts: {dict(Counter(topics))}')"
      ],
      "id": "zqyiZiFU-air",
      "execution_count": 15,
      "outputs": [
        {
          "output_type": "stream",
          "text": [
            "Topic counts: {0: 44, 1: 76, 2: 51, 3: 25}\n"
          ],
          "name": "stdout"
        }
      ]
    },
    {
      "cell_type": "code",
      "metadata": {
        "colab": {
          "base_uri": "https://localhost:8080/"
        },
        "id": "AQOgMYD6-5sV",
        "outputId": "a0838347-58d6-4567-eb7e-82a5a6499c76"
      },
      "source": [
        "print(f'Total tweets count: {len(all_tweets)}')"
      ],
      "id": "AQOgMYD6-5sV",
      "execution_count": 16,
      "outputs": [
        {
          "output_type": "stream",
          "text": [
            "Total tweets count: 196\n"
          ],
          "name": "stdout"
        }
      ]
    },
    {
      "cell_type": "markdown",
      "metadata": {
        "id": "si4fWz4w_Zgn"
      },
      "source": [
        "**Part 4.** Assume your combined lists each have a length of n.  Your next goal is to construct a n x 5 numpy feature array suited for machine learning, where each row matches the corresponding index in your lists, and the 5 columns represent the features for the tweet at that position as follows:\n",
        "\n",
        "Feature 1: The length of the tweet’s text.\n",
        "\n",
        "Feature 2: The tweet’s retweet count.\n",
        "\n",
        "Feature 3: The tweet’s latitude.\n",
        "\n",
        "Feature 4: The tweet’s longitude.\n",
        "\n",
        "Feature 5: one of two values as follows: 0 if the tweet is in English, or 100 otherwise.\n",
        "\n",
        "For example, the first row in your feature array may look like the below:\n"
      ],
      "id": "si4fWz4w_Zgn"
    },
    {
      "cell_type": "code",
      "metadata": {
        "id": "koP2OXPZTmcx",
        "outputId": "5208e5c5-c62f-4a03-e168-09368de4b726",
        "colab": {
          "base_uri": "https://localhost:8080/"
        }
      },
      "source": [
        "len(all_tweets)"
      ],
      "id": "koP2OXPZTmcx",
      "execution_count": 27,
      "outputs": [
        {
          "output_type": "execute_result",
          "data": {
            "text/plain": [
              "196"
            ]
          },
          "metadata": {
            "tags": []
          },
          "execution_count": 27
        }
      ]
    },
    {
      "cell_type": "code",
      "metadata": {
        "id": "Mz3bE5l5_1gZ"
      },
      "source": [
        "import numpy as np \n",
        "\n",
        "# Initiate empty numpoy array\n",
        "data = np.array([])\n",
        "for tweet in all_tweets:\n",
        "  lang =  1 if tweet['lang'] == 'en' else 100\n",
        "  tweet_data = np.array([len(tweet['text']), tweet['retweet_count'], tweet['latitude'],\n",
        "        tweet['longitude'], lang])\n",
        "  if not np.size(data):\n",
        "    # if numpy array size is zero insert horizontally\n",
        "    data = np.hstack((data, tweet_data))\n",
        "    continue\n",
        "  # Append numpy array vertically\n",
        "  data = np.vstack((data, tweet_data))"
      ],
      "id": "Mz3bE5l5_1gZ",
      "execution_count": 33,
      "outputs": []
    },
    {
      "cell_type": "markdown",
      "metadata": {
        "id": "_1G3XfhFKWp5"
      },
      "source": [
        "**Part 5.** Convert your secondary list of classes into an array, and then perform 10-fold cross-validation using three distinct classification estimators (either the ones we used in class, or those of your own choosing) to determine the accuracy available in using our features from part 4 in predicting the class of tweets."
      ],
      "id": "_1G3XfhFKWp5"
    },
    {
      "cell_type": "markdown",
      "metadata": {
        "id": "Gq05xYzmYbeO"
      },
      "source": [
        ""
      ],
      "id": "Gq05xYzmYbeO"
    },
    {
      "cell_type": "code",
      "metadata": {
        "colab": {
          "base_uri": "https://localhost:8080/"
        },
        "id": "VzF599G9KfZn",
        "outputId": "4f10f7cb-06a2-43e1-9c4e-7c735b283a75"
      },
      "source": [
        "# Convert python list to numpy array\n",
        "topics = np.array(topics)\n",
        "topics"
      ],
      "id": "VzF599G9KfZn",
      "execution_count": 37,
      "outputs": [
        {
          "output_type": "execute_result",
          "data": {
            "text/plain": [
              "array([0, 0, 0, 0, 0, 0, 0, 0, 0, 0, 0, 0, 0, 0, 0, 0, 0, 0, 0, 0, 0, 0,\n",
              "       0, 0, 0, 0, 0, 0, 0, 0, 0, 0, 0, 0, 0, 0, 0, 0, 0, 0, 0, 0, 0, 0,\n",
              "       1, 1, 1, 1, 1, 1, 1, 1, 1, 1, 1, 1, 1, 1, 1, 1, 1, 1, 1, 1, 1, 1,\n",
              "       1, 1, 1, 1, 1, 1, 1, 1, 1, 1, 1, 1, 1, 1, 1, 1, 1, 1, 1, 1, 1, 1,\n",
              "       1, 1, 1, 1, 1, 1, 1, 1, 1, 1, 1, 1, 1, 1, 1, 1, 1, 1, 1, 1, 1, 1,\n",
              "       1, 1, 1, 1, 1, 1, 1, 1, 1, 1, 2, 2, 2, 2, 2, 2, 2, 2, 2, 2, 2, 2,\n",
              "       2, 2, 2, 2, 2, 2, 2, 2, 2, 2, 2, 2, 2, 2, 2, 2, 2, 2, 2, 2, 2, 2,\n",
              "       2, 2, 2, 2, 2, 2, 2, 2, 2, 2, 2, 2, 2, 2, 2, 2, 2, 3, 3, 3, 3, 3,\n",
              "       3, 3, 3, 3, 3, 3, 3, 3, 3, 3, 3, 3, 3, 3, 3, 3, 3, 3, 3, 3])"
            ]
          },
          "metadata": {
            "tags": []
          },
          "execution_count": 37
        }
      ]
    },
    {
      "cell_type": "code",
      "metadata": {
        "id": "eVe5BscYSOLJ"
      },
      "source": [
        "from sklearn.datasets import load_wine\n",
        "from sklearn.neighbors import KNeighborsClassifier\n",
        "from sklearn.naive_bayes import GaussianNB\n",
        "from sklearn.svm import SVC\n",
        "from sklearn.linear_model import LogisticRegression\n",
        "from sklearn.model_selection import train_test_split, KFold, cross_val_score"
      ],
      "id": "eVe5BscYSOLJ",
      "execution_count": 38,
      "outputs": []
    },
    {
      "cell_type": "code",
      "metadata": {
        "id": "Etky6z87Syhu",
        "outputId": "7c084a18-691f-4f32-90a7-54425559b500",
        "colab": {
          "base_uri": "https://localhost:8080/"
        }
      },
      "source": [
        "models = {'KNeighborsClassifier': KNeighborsClassifier(),\n",
        "          'GaussianNB': GaussianNB(),\n",
        "          'SVC': SVC(),\n",
        "          'LogisticRegression': LogisticRegression(max_iter=10000)}\n",
        "\n",
        "for model_name, model in models.items():\n",
        "  kfold_10 = KFold(n_splits=10, random_state=42, shuffle=True)\n",
        "  scores = cross_val_score(estimator=model, X=data, y=topics, cv=kfold_10)\n",
        "  print(f'{model_name:>20} '\n",
        "        + f'Mean_accuracy: {scores.mean():.2%} '\n",
        "        + f'Standard deviation: {scores.std():.2} ')"
      ],
      "id": "Etky6z87Syhu",
      "execution_count": 40,
      "outputs": [
        {
          "output_type": "stream",
          "text": [
            "KNeighborsClassifier Mean_accuracy: 62.82% Standard deviation: 0.084 \n",
            "          GaussianNB Mean_accuracy: 62.29% Standard deviation: 0.07 \n",
            "                 SVC Mean_accuracy: 43.53% Standard deviation: 0.14 \n",
            "  LogisticRegression Mean_accuracy: 67.21% Standard deviation: 0.075 \n"
          ],
          "name": "stdout"
        }
      ]
    },
    {
      "cell_type": "markdown",
      "metadata": {
        "id": "zBlbcHiGKqXP"
      },
      "source": [
        "**Part 6.** Using the t-SNE estimator to compress our features into 2 dimensions, visualize the tweets on a scatter-plot with 4 different colors for 4 different classes.  Briefly comment (inline code comments are fine) on where you see distinct clusters of classes on the plot, and where you do not see any distinction."
      ],
      "id": "zBlbcHiGKqXP"
    },
    {
      "cell_type": "code",
      "metadata": {
        "id": "UDcBUdRiVMLH",
        "outputId": "1d825ec9-de15-4222-dcfa-c5c52dea8d0a",
        "colab": {
          "base_uri": "https://localhost:8080/"
        }
      },
      "source": [
        "from sklearn.manifold import TSNE\n",
        "\n",
        "# Transform 5 features onto 2 dimensions\n",
        "tsne = TSNE(n_components=2, random_state=42)\n",
        "reduced_data = tsne.fit_transform(data)\n",
        "reduced_data.shape"
      ],
      "id": "UDcBUdRiVMLH",
      "execution_count": 51,
      "outputs": [
        {
          "output_type": "execute_result",
          "data": {
            "text/plain": [
              "(196, 2)"
            ]
          },
          "metadata": {
            "tags": []
          },
          "execution_count": 51
        }
      ]
    },
    {
      "cell_type": "code",
      "metadata": {
        "id": "_L_TgnjXV7Ww",
        "outputId": "d09a6429-4672-4bcb-86a4-1f7a1c413e67",
        "colab": {
          "base_uri": "https://localhost:8080/",
          "height": 324
        }
      },
      "source": [
        "import matplotlib.pyplot as plt\n",
        "%matplotlib inline\n",
        "\n",
        "figure = plt.figure(figsize=(6,5))\n",
        "\n",
        "dots = plt.scatter(reduced_data[:,0], reduced_data[:,1],\n",
        "        c=topics, cmap=plt.cm.get_cmap('nipy_spectral_r', 4))\n",
        "\n",
        "colorbar = plt.colorbar(dots)\n",
        "\n",
        "# colorbar = plt.colorbar(dots, ticks=[0,1,2,3,4])"
      ],
      "id": "_L_TgnjXV7Ww",
      "execution_count": 78,
      "outputs": [
        {
          "output_type": "display_data",
          "data": {
            "image/png": "[encoded data removed]",
            "text/plain": [
              "<Figure size 432x360 with 2 Axes>"
            ]
          },
          "metadata": {
            "tags": [],
            "needs_background": "light"
          }
        }
      ]
    },
    {
      "cell_type": "markdown",
      "metadata": {
        "id": "pT10ofZgbVcP"
      },
      "source": [
        "Based on the scatter plot, we can observed that tweets of America Latina and Machine learning are overlapping with other 3 classes. The other two topics are presented in each class. That explains why ML model predicted with low accurracy with highest score of 67.21%"
      ],
      "id": "pT10ofZgbVcP"
    }
  ]
}