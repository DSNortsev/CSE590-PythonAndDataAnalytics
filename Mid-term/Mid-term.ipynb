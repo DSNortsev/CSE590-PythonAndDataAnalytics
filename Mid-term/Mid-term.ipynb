{
  "nbformat": 4,
  "nbformat_minor": 5,
  "metadata": {
    "kernelspec": {
      "display_name": "Python 3",
      "language": "python",
      "name": "python3"
    },
    "language_info": {
      "codemirror_mode": {
        "name": "ipython",
        "version": 3
      },
      "file_extension": ".py",
      "mimetype": "text/x-python",
      "name": "python",
      "nbconvert_exporter": "python",
      "pygments_lexer": "ipython3",
      "version": "3.9.2"
    },
    "colab": {
      "name": "Mid-term.ipynb",
      "provenance": [],
      "include_colab_link": true
    }
  },
  "cells": [
    {
      "cell_type": "markdown",
      "metadata": {
        "id": "view-in-github",
        "colab_type": "text"
      },
      "source": [
        "<a href=\"https://colab.research.google.com/github/DSNortsev/CSE590-PythonAndDataAnalytics/blob/main/Mid-term/Mid-term.ipynb\" target=\"_parent\"><img src=\"https://colab.research.google.com/assets/colab-badge.svg\" alt=\"Open In Colab\"/></a>"
      ]
    },
    {
      "cell_type": "code",
      "metadata": {
        "id": "remarkable-radical"
      },
      "source": [
        "import pandas as pd\n",
        "import numpy as np"
      ],
      "id": "remarkable-radical",
      "execution_count": 1,
      "outputs": []
    },
    {
      "cell_type": "markdown",
      "metadata": {
        "id": "F9IcxiPbwC1l"
      },
      "source": [
        "**1. Load the .csv file into a pandas data-frame (DF) with appropriate rows and columns.**"
      ],
      "id": "F9IcxiPbwC1l"
    },
    {
      "cell_type": "code",
      "metadata": {
        "colab": {
          "base_uri": "https://localhost:8080/",
          "height": 1000
        },
        "id": "nhbyi0lRv0l-",
        "outputId": "d06cc622-2073-4230-f577-9742592f4861"
      },
      "source": [
        "df = pd.read_csv(\"MetObjects_American.csv\")\n",
        "df"
      ],
      "id": "nhbyi0lRv0l-",
      "execution_count": 2,
      "outputs": [
        {
          "output_type": "execute_result",
          "data": {
            "text/html": [
              "<div>\n",
              "<style scoped>\n",
              "    .dataframe tbody tr th:only-of-type {\n",
              "        vertical-align: middle;\n",
              "    }\n",
              "\n",
              "    .dataframe tbody tr th {\n",
              "        vertical-align: top;\n",
              "    }\n",
              "\n",
              "    .dataframe thead th {\n",
              "        text-align: right;\n",
              "    }\n",
              "</style>\n",
              "<table border=\"1\" class=\"dataframe\">\n",
              "  <thead>\n",
              "    <tr style=\"text-align: right;\">\n",
              "      <th></th>\n",
              "      <th>Object Number</th>\n",
              "      <th>Is Highlight</th>\n",
              "      <th>Is Public Domain</th>\n",
              "      <th>Object ID</th>\n",
              "      <th>Department</th>\n",
              "      <th>Object Name</th>\n",
              "      <th>Title</th>\n",
              "      <th>Culture</th>\n",
              "      <th>Period</th>\n",
              "      <th>Dynasty</th>\n",
              "      <th>Reign</th>\n",
              "      <th>Portfolio</th>\n",
              "      <th>Artist Role</th>\n",
              "      <th>Artist Prefix</th>\n",
              "      <th>Artist Display Name</th>\n",
              "      <th>Artist Display Bio</th>\n",
              "      <th>Artist Suffix</th>\n",
              "      <th>Artist Alpha Sort</th>\n",
              "      <th>Artist Nationality</th>\n",
              "      <th>Artist Begin Date</th>\n",
              "      <th>Artist End Date</th>\n",
              "      <th>Object Date</th>\n",
              "      <th>Object Begin Date</th>\n",
              "      <th>Object End Date</th>\n",
              "      <th>Medium</th>\n",
              "      <th>Dimensions</th>\n",
              "      <th>Credit Line</th>\n",
              "      <th>Geography Type</th>\n",
              "      <th>City</th>\n",
              "      <th>State</th>\n",
              "      <th>County</th>\n",
              "      <th>Country</th>\n",
              "      <th>Region</th>\n",
              "      <th>Subregion</th>\n",
              "      <th>Locale</th>\n",
              "      <th>Locus</th>\n",
              "      <th>Excavation</th>\n",
              "      <th>River</th>\n",
              "      <th>Classification</th>\n",
              "      <th>Rights and Reproduction</th>\n",
              "      <th>Link Resource</th>\n",
              "      <th>Metadata Date</th>\n",
              "      <th>Repository</th>\n",
              "      <th>Tags</th>\n",
              "    </tr>\n",
              "  </thead>\n",
              "  <tbody>\n",
              "    <tr>\n",
              "      <th>0</th>\n",
              "      <td>1979.486.1</td>\n",
              "      <td>False</td>\n",
              "      <td>False</td>\n",
              "      <td>1</td>\n",
              "      <td>The American Wing</td>\n",
              "      <td>Coin</td>\n",
              "      <td>One-dollar Liberty Head Coin</td>\n",
              "      <td>NaN</td>\n",
              "      <td>NaN</td>\n",
              "      <td>NaN</td>\n",
              "      <td>NaN</td>\n",
              "      <td>NaN</td>\n",
              "      <td>Maker</td>\n",
              "      <td>NaN</td>\n",
              "      <td>James Barton Longacre</td>\n",
              "      <td>American, Delaware County, Pennsylvania 1794–1...</td>\n",
              "      <td>NaN</td>\n",
              "      <td>Longacre, James Barton</td>\n",
              "      <td>American</td>\n",
              "      <td>1794</td>\n",
              "      <td>1869</td>\n",
              "      <td>1853</td>\n",
              "      <td>1853</td>\n",
              "      <td>1853</td>\n",
              "      <td>Gold</td>\n",
              "      <td>Dimensions unavailable</td>\n",
              "      <td>Gift of Heinz L. Stoppelmann, 1979</td>\n",
              "      <td>NaN</td>\n",
              "      <td>NaN</td>\n",
              "      <td>NaN</td>\n",
              "      <td>NaN</td>\n",
              "      <td>NaN</td>\n",
              "      <td>NaN</td>\n",
              "      <td>NaN</td>\n",
              "      <td>NaN</td>\n",
              "      <td>NaN</td>\n",
              "      <td>NaN</td>\n",
              "      <td>NaN</td>\n",
              "      <td>Metal</td>\n",
              "      <td>NaN</td>\n",
              "      <td>http://www.metmuseum.org/art/collection/search/1</td>\n",
              "      <td>NaN</td>\n",
              "      <td>Metropolitan Museum of Art, New York, NY</td>\n",
              "      <td>NaN</td>\n",
              "    </tr>\n",
              "    <tr>\n",
              "      <th>1</th>\n",
              "      <td>1980.264.5</td>\n",
              "      <td>False</td>\n",
              "      <td>False</td>\n",
              "      <td>2</td>\n",
              "      <td>The American Wing</td>\n",
              "      <td>Coin</td>\n",
              "      <td>Ten-dollar Liberty Head Coin</td>\n",
              "      <td>NaN</td>\n",
              "      <td>NaN</td>\n",
              "      <td>NaN</td>\n",
              "      <td>NaN</td>\n",
              "      <td>NaN</td>\n",
              "      <td>Maker</td>\n",
              "      <td>NaN</td>\n",
              "      <td>Christian Gobrecht</td>\n",
              "      <td>1785–1844</td>\n",
              "      <td>NaN</td>\n",
              "      <td>Gobrecht, Christian</td>\n",
              "      <td>NaN</td>\n",
              "      <td>1785</td>\n",
              "      <td>1844</td>\n",
              "      <td>1901</td>\n",
              "      <td>1901</td>\n",
              "      <td>1901</td>\n",
              "      <td>Gold</td>\n",
              "      <td>Dimensions unavailable</td>\n",
              "      <td>Gift of Heinz L. Stoppelmann, 1980</td>\n",
              "      <td>NaN</td>\n",
              "      <td>NaN</td>\n",
              "      <td>NaN</td>\n",
              "      <td>NaN</td>\n",
              "      <td>NaN</td>\n",
              "      <td>NaN</td>\n",
              "      <td>NaN</td>\n",
              "      <td>NaN</td>\n",
              "      <td>NaN</td>\n",
              "      <td>NaN</td>\n",
              "      <td>NaN</td>\n",
              "      <td>Metal</td>\n",
              "      <td>NaN</td>\n",
              "      <td>http://www.metmuseum.org/art/collection/search/2</td>\n",
              "      <td>NaN</td>\n",
              "      <td>Metropolitan Museum of Art, New York, NY</td>\n",
              "      <td>NaN</td>\n",
              "    </tr>\n",
              "    <tr>\n",
              "      <th>2</th>\n",
              "      <td>67.265.9</td>\n",
              "      <td>False</td>\n",
              "      <td>False</td>\n",
              "      <td>3</td>\n",
              "      <td>The American Wing</td>\n",
              "      <td>Coin</td>\n",
              "      <td>Two-and-a-Half Dollar Coin</td>\n",
              "      <td>NaN</td>\n",
              "      <td>NaN</td>\n",
              "      <td>NaN</td>\n",
              "      <td>NaN</td>\n",
              "      <td>NaN</td>\n",
              "      <td>NaN</td>\n",
              "      <td>NaN</td>\n",
              "      <td>NaN</td>\n",
              "      <td>NaN</td>\n",
              "      <td>NaN</td>\n",
              "      <td>NaN</td>\n",
              "      <td>NaN</td>\n",
              "      <td>NaN</td>\n",
              "      <td>NaN</td>\n",
              "      <td>1909–27</td>\n",
              "      <td>1909</td>\n",
              "      <td>1927</td>\n",
              "      <td>Gold</td>\n",
              "      <td>Diam. 11/16 in. (1.7 cm)</td>\n",
              "      <td>Gift of C. Ruxton Love, Jr., 1967</td>\n",
              "      <td>NaN</td>\n",
              "      <td>NaN</td>\n",
              "      <td>NaN</td>\n",
              "      <td>NaN</td>\n",
              "      <td>NaN</td>\n",
              "      <td>NaN</td>\n",
              "      <td>NaN</td>\n",
              "      <td>NaN</td>\n",
              "      <td>NaN</td>\n",
              "      <td>NaN</td>\n",
              "      <td>NaN</td>\n",
              "      <td>Metal</td>\n",
              "      <td>NaN</td>\n",
              "      <td>http://www.metmuseum.org/art/collection/search/3</td>\n",
              "      <td>NaN</td>\n",
              "      <td>Metropolitan Museum of Art, New York, NY</td>\n",
              "      <td>NaN</td>\n",
              "    </tr>\n",
              "    <tr>\n",
              "      <th>3</th>\n",
              "      <td>67.265.10</td>\n",
              "      <td>False</td>\n",
              "      <td>False</td>\n",
              "      <td>4</td>\n",
              "      <td>The American Wing</td>\n",
              "      <td>Coin</td>\n",
              "      <td>Two-and-a-Half Dollar Coin</td>\n",
              "      <td>NaN</td>\n",
              "      <td>NaN</td>\n",
              "      <td>NaN</td>\n",
              "      <td>NaN</td>\n",
              "      <td>NaN</td>\n",
              "      <td>NaN</td>\n",
              "      <td>NaN</td>\n",
              "      <td>NaN</td>\n",
              "      <td>NaN</td>\n",
              "      <td>NaN</td>\n",
              "      <td>NaN</td>\n",
              "      <td>NaN</td>\n",
              "      <td>NaN</td>\n",
              "      <td>NaN</td>\n",
              "      <td>1909–27</td>\n",
              "      <td>1909</td>\n",
              "      <td>1927</td>\n",
              "      <td>Gold</td>\n",
              "      <td>Diam. 11/16 in. (1.7 cm)</td>\n",
              "      <td>Gift of C. Ruxton Love, Jr., 1967</td>\n",
              "      <td>NaN</td>\n",
              "      <td>NaN</td>\n",
              "      <td>NaN</td>\n",
              "      <td>NaN</td>\n",
              "      <td>NaN</td>\n",
              "      <td>NaN</td>\n",
              "      <td>NaN</td>\n",
              "      <td>NaN</td>\n",
              "      <td>NaN</td>\n",
              "      <td>NaN</td>\n",
              "      <td>NaN</td>\n",
              "      <td>Metal</td>\n",
              "      <td>NaN</td>\n",
              "      <td>http://www.metmuseum.org/art/collection/search/4</td>\n",
              "      <td>NaN</td>\n",
              "      <td>Metropolitan Museum of Art, New York, NY</td>\n",
              "      <td>NaN</td>\n",
              "    </tr>\n",
              "    <tr>\n",
              "      <th>4</th>\n",
              "      <td>67.265.11</td>\n",
              "      <td>False</td>\n",
              "      <td>False</td>\n",
              "      <td>5</td>\n",
              "      <td>The American Wing</td>\n",
              "      <td>Coin</td>\n",
              "      <td>Two-and-a-Half Dollar Coin</td>\n",
              "      <td>NaN</td>\n",
              "      <td>NaN</td>\n",
              "      <td>NaN</td>\n",
              "      <td>NaN</td>\n",
              "      <td>NaN</td>\n",
              "      <td>NaN</td>\n",
              "      <td>NaN</td>\n",
              "      <td>NaN</td>\n",
              "      <td>NaN</td>\n",
              "      <td>NaN</td>\n",
              "      <td>NaN</td>\n",
              "      <td>NaN</td>\n",
              "      <td>NaN</td>\n",
              "      <td>NaN</td>\n",
              "      <td>1909–27</td>\n",
              "      <td>1909</td>\n",
              "      <td>1927</td>\n",
              "      <td>Gold</td>\n",
              "      <td>Diam. 11/16 in. (1.7 cm)</td>\n",
              "      <td>Gift of C. Ruxton Love, Jr., 1967</td>\n",
              "      <td>NaN</td>\n",
              "      <td>NaN</td>\n",
              "      <td>NaN</td>\n",
              "      <td>NaN</td>\n",
              "      <td>NaN</td>\n",
              "      <td>NaN</td>\n",
              "      <td>NaN</td>\n",
              "      <td>NaN</td>\n",
              "      <td>NaN</td>\n",
              "      <td>NaN</td>\n",
              "      <td>NaN</td>\n",
              "      <td>Metal</td>\n",
              "      <td>NaN</td>\n",
              "      <td>http://www.metmuseum.org/art/collection/search/5</td>\n",
              "      <td>NaN</td>\n",
              "      <td>Metropolitan Museum of Art, New York, NY</td>\n",
              "      <td>NaN</td>\n",
              "    </tr>\n",
              "    <tr>\n",
              "      <th>...</th>\n",
              "      <td>...</td>\n",
              "      <td>...</td>\n",
              "      <td>...</td>\n",
              "      <td>...</td>\n",
              "      <td>...</td>\n",
              "      <td>...</td>\n",
              "      <td>...</td>\n",
              "      <td>...</td>\n",
              "      <td>...</td>\n",
              "      <td>...</td>\n",
              "      <td>...</td>\n",
              "      <td>...</td>\n",
              "      <td>...</td>\n",
              "      <td>...</td>\n",
              "      <td>...</td>\n",
              "      <td>...</td>\n",
              "      <td>...</td>\n",
              "      <td>...</td>\n",
              "      <td>...</td>\n",
              "      <td>...</td>\n",
              "      <td>...</td>\n",
              "      <td>...</td>\n",
              "      <td>...</td>\n",
              "      <td>...</td>\n",
              "      <td>...</td>\n",
              "      <td>...</td>\n",
              "      <td>...</td>\n",
              "      <td>...</td>\n",
              "      <td>...</td>\n",
              "      <td>...</td>\n",
              "      <td>...</td>\n",
              "      <td>...</td>\n",
              "      <td>...</td>\n",
              "      <td>...</td>\n",
              "      <td>...</td>\n",
              "      <td>...</td>\n",
              "      <td>...</td>\n",
              "      <td>...</td>\n",
              "      <td>...</td>\n",
              "      <td>...</td>\n",
              "      <td>...</td>\n",
              "      <td>...</td>\n",
              "      <td>...</td>\n",
              "      <td>...</td>\n",
              "    </tr>\n",
              "    <tr>\n",
              "      <th>17244</th>\n",
              "      <td>2013.959.1.2</td>\n",
              "      <td>False</td>\n",
              "      <td>False</td>\n",
              "      <td>21788</td>\n",
              "      <td>The American Wing</td>\n",
              "      <td>Cream jug</td>\n",
              "      <td>Cream jug</td>\n",
              "      <td>American</td>\n",
              "      <td>NaN</td>\n",
              "      <td>NaN</td>\n",
              "      <td>NaN</td>\n",
              "      <td>NaN</td>\n",
              "      <td>Maker</td>\n",
              "      <td>NaN</td>\n",
              "      <td>Tiffany &amp; Co.</td>\n",
              "      <td>1837–present</td>\n",
              "      <td>NaN</td>\n",
              "      <td>Tiffany &amp; Co.</td>\n",
              "      <td>NaN</td>\n",
              "      <td>1837</td>\n",
              "      <td>9999</td>\n",
              "      <td>1928</td>\n",
              "      <td>1928</td>\n",
              "      <td>1928</td>\n",
              "      <td>Silver</td>\n",
              "      <td>3 × 3 5/8 × 2 5/8 in. (7.6 × 9.2 × 6.7 cm)</td>\n",
              "      <td>Gift, Silver &amp; Metalwork of the Twentieth Cent...</td>\n",
              "      <td>Made in</td>\n",
              "      <td>New York</td>\n",
              "      <td>NaN</td>\n",
              "      <td>NaN</td>\n",
              "      <td>United States</td>\n",
              "      <td>NaN</td>\n",
              "      <td>NaN</td>\n",
              "      <td>NaN</td>\n",
              "      <td>NaN</td>\n",
              "      <td>NaN</td>\n",
              "      <td>NaN</td>\n",
              "      <td>Silver</td>\n",
              "      <td>NaN</td>\n",
              "      <td>http://www.metmuseum.org/art/collection/search...</td>\n",
              "      <td>2019-07-31T03:00:40.447Z</td>\n",
              "      <td>Metropolitan Museum of Art, New York, NY</td>\n",
              "      <td>NaN</td>\n",
              "    </tr>\n",
              "    <tr>\n",
              "      <th>17245</th>\n",
              "      <td>2013.959.1.4a, b</td>\n",
              "      <td>False</td>\n",
              "      <td>False</td>\n",
              "      <td>21789</td>\n",
              "      <td>The American Wing</td>\n",
              "      <td>Sugar bowl</td>\n",
              "      <td>Covered sugar bowl</td>\n",
              "      <td>American</td>\n",
              "      <td>NaN</td>\n",
              "      <td>NaN</td>\n",
              "      <td>NaN</td>\n",
              "      <td>NaN</td>\n",
              "      <td>Maker</td>\n",
              "      <td>NaN</td>\n",
              "      <td>Tiffany &amp; Co.</td>\n",
              "      <td>1837–present</td>\n",
              "      <td>NaN</td>\n",
              "      <td>Tiffany &amp; Co.</td>\n",
              "      <td>NaN</td>\n",
              "      <td>1837</td>\n",
              "      <td>9999</td>\n",
              "      <td>1928</td>\n",
              "      <td>1928</td>\n",
              "      <td>1928</td>\n",
              "      <td>Silver</td>\n",
              "      <td>3 7/8 × 4 7/8 × 3 1/4 in. (9.8 × 12.4 × 8.3 cm)</td>\n",
              "      <td>Gift, Silver &amp; Metalwork of the Twentieth Cent...</td>\n",
              "      <td>NaN</td>\n",
              "      <td>NaN</td>\n",
              "      <td>NaN</td>\n",
              "      <td>NaN</td>\n",
              "      <td>NaN</td>\n",
              "      <td>NaN</td>\n",
              "      <td>NaN</td>\n",
              "      <td>NaN</td>\n",
              "      <td>NaN</td>\n",
              "      <td>NaN</td>\n",
              "      <td>NaN</td>\n",
              "      <td>Silver</td>\n",
              "      <td>NaN</td>\n",
              "      <td>http://www.metmuseum.org/art/collection/search...</td>\n",
              "      <td>2019-07-26T03:00:41.71Z</td>\n",
              "      <td>Metropolitan Museum of Art, New York, NY</td>\n",
              "      <td>NaN</td>\n",
              "    </tr>\n",
              "    <tr>\n",
              "      <th>17246</th>\n",
              "      <td>2013.959.1.5</td>\n",
              "      <td>False</td>\n",
              "      <td>False</td>\n",
              "      <td>21790</td>\n",
              "      <td>The American Wing</td>\n",
              "      <td>Tray</td>\n",
              "      <td>Tray</td>\n",
              "      <td>American</td>\n",
              "      <td>NaN</td>\n",
              "      <td>NaN</td>\n",
              "      <td>NaN</td>\n",
              "      <td>NaN</td>\n",
              "      <td>Maker</td>\n",
              "      <td>NaN</td>\n",
              "      <td>Tiffany &amp; Co.</td>\n",
              "      <td>1837–present</td>\n",
              "      <td>NaN</td>\n",
              "      <td>Tiffany &amp; Co.</td>\n",
              "      <td>NaN</td>\n",
              "      <td>1837</td>\n",
              "      <td>9999</td>\n",
              "      <td>1928</td>\n",
              "      <td>1928</td>\n",
              "      <td>1928</td>\n",
              "      <td>Silver</td>\n",
              "      <td>1 1/8 × 14 × 12 in. (2.9 × 35.6 × 30.5 cm)</td>\n",
              "      <td>Gift, Silver &amp; Metalwork of the Twentieth Cent...</td>\n",
              "      <td>Made in</td>\n",
              "      <td>New York</td>\n",
              "      <td>NaN</td>\n",
              "      <td>NaN</td>\n",
              "      <td>United States</td>\n",
              "      <td>NaN</td>\n",
              "      <td>NaN</td>\n",
              "      <td>NaN</td>\n",
              "      <td>NaN</td>\n",
              "      <td>NaN</td>\n",
              "      <td>NaN</td>\n",
              "      <td>Silver</td>\n",
              "      <td>NaN</td>\n",
              "      <td>http://www.metmuseum.org/art/collection/search...</td>\n",
              "      <td>2019-07-31T03:00:40.447Z</td>\n",
              "      <td>Metropolitan Museum of Art, New York, NY</td>\n",
              "      <td>NaN</td>\n",
              "    </tr>\n",
              "    <tr>\n",
              "      <th>17247</th>\n",
              "      <td>2013.959.1.3a–c</td>\n",
              "      <td>False</td>\n",
              "      <td>False</td>\n",
              "      <td>21791</td>\n",
              "      <td>The American Wing</td>\n",
              "      <td>Kettle</td>\n",
              "      <td>Kettle and stand</td>\n",
              "      <td>American</td>\n",
              "      <td>NaN</td>\n",
              "      <td>NaN</td>\n",
              "      <td>NaN</td>\n",
              "      <td>NaN</td>\n",
              "      <td>Maker</td>\n",
              "      <td>NaN</td>\n",
              "      <td>Tiffany &amp; Co.</td>\n",
              "      <td>1837–present</td>\n",
              "      <td>NaN</td>\n",
              "      <td>Tiffany &amp; Co.</td>\n",
              "      <td>NaN</td>\n",
              "      <td>1837</td>\n",
              "      <td>9999</td>\n",
              "      <td>1928</td>\n",
              "      <td>1928</td>\n",
              "      <td>1928</td>\n",
              "      <td>Silver, wood</td>\n",
              "      <td>Kettle on stand: 11 in. (27.9 cm)\\r\\nOther (ke...</td>\n",
              "      <td>Gift, Silver &amp; Metalwork of the Twentieth Cent...</td>\n",
              "      <td>Made in</td>\n",
              "      <td>New York</td>\n",
              "      <td>NaN</td>\n",
              "      <td>NaN</td>\n",
              "      <td>United States</td>\n",
              "      <td>NaN</td>\n",
              "      <td>NaN</td>\n",
              "      <td>NaN</td>\n",
              "      <td>NaN</td>\n",
              "      <td>NaN</td>\n",
              "      <td>NaN</td>\n",
              "      <td>Silver</td>\n",
              "      <td>NaN</td>\n",
              "      <td>http://www.metmuseum.org/art/collection/search...</td>\n",
              "      <td>2019-07-31T03:00:40.447Z</td>\n",
              "      <td>Metropolitan Museum of Art, New York, NY</td>\n",
              "      <td>NaN</td>\n",
              "    </tr>\n",
              "    <tr>\n",
              "      <th>17248</th>\n",
              "      <td>2013.959.11</td>\n",
              "      <td>False</td>\n",
              "      <td>False</td>\n",
              "      <td>21792</td>\n",
              "      <td>The American Wing</td>\n",
              "      <td>Salver</td>\n",
              "      <td>Salver</td>\n",
              "      <td>American</td>\n",
              "      <td>NaN</td>\n",
              "      <td>NaN</td>\n",
              "      <td>NaN</td>\n",
              "      <td>NaN</td>\n",
              "      <td>Maker</td>\n",
              "      <td>NaN</td>\n",
              "      <td>Katherine Pratt</td>\n",
              "      <td>1891–1978</td>\n",
              "      <td>NaN</td>\n",
              "      <td>Pratt, Katherine</td>\n",
              "      <td>NaN</td>\n",
              "      <td>1891</td>\n",
              "      <td>1978</td>\n",
              "      <td>ca. 1920</td>\n",
              "      <td>1915</td>\n",
              "      <td>1925</td>\n",
              "      <td>Silver</td>\n",
              "      <td>3/4 × 6 1/8 in. (1.9 × 15.6 cm)</td>\n",
              "      <td>Gift, Silver &amp; Metalwork of the Twentieth Cent...</td>\n",
              "      <td>NaN</td>\n",
              "      <td>NaN</td>\n",
              "      <td>NaN</td>\n",
              "      <td>NaN</td>\n",
              "      <td>NaN</td>\n",
              "      <td>NaN</td>\n",
              "      <td>NaN</td>\n",
              "      <td>NaN</td>\n",
              "      <td>NaN</td>\n",
              "      <td>NaN</td>\n",
              "      <td>NaN</td>\n",
              "      <td>Silver</td>\n",
              "      <td>NaN</td>\n",
              "      <td>http://www.metmuseum.org/art/collection/search...</td>\n",
              "      <td>2019-07-31T03:00:40.447Z</td>\n",
              "      <td>Metropolitan Museum of Art, New York, NY</td>\n",
              "      <td>NaN</td>\n",
              "    </tr>\n",
              "  </tbody>\n",
              "</table>\n",
              "<p>17249 rows × 44 columns</p>\n",
              "</div>"
            ],
            "text/plain": [
              "          Object Number  ...  Tags\n",
              "0            1979.486.1  ...   NaN\n",
              "1            1980.264.5  ...   NaN\n",
              "2              67.265.9  ...   NaN\n",
              "3             67.265.10  ...   NaN\n",
              "4             67.265.11  ...   NaN\n",
              "...                 ...  ...   ...\n",
              "17244      2013.959.1.2  ...   NaN\n",
              "17245  2013.959.1.4a, b  ...   NaN\n",
              "17246      2013.959.1.5  ...   NaN\n",
              "17247   2013.959.1.3a–c  ...   NaN\n",
              "17248       2013.959.11  ...   NaN\n",
              "\n",
              "[17249 rows x 44 columns]"
            ]
          },
          "metadata": {
            "tags": []
          },
          "execution_count": 2
        }
      ]
    },
    {
      "cell_type": "markdown",
      "metadata": {
        "id": "gvTLjcJ0wT9Y"
      },
      "source": [
        "**2. Many columns of this data are missing entirely (i.e. no entries are present), because this subset of the data has no pieces with relevant information.  Use Python to determine which columns have data that are entirely missing, and remove them from the data-frame.\\\n",
        "Hint 1: remember that drop is a simple way to remove a column or columns, but requires specific syntax.\\\n",
        "Hint 2: Any column that consists entirely of missing data will be treated as “numeric” in construction.**\n"
      ],
      "id": "gvTLjcJ0wT9Y"
    },
    {
      "cell_type": "code",
      "metadata": {
        "colab": {
          "base_uri": "https://localhost:8080/"
        },
        "id": "FnLabjxm3Kzu",
        "outputId": "3e0ad1f6-d9db-4ab1-b0b2-15ecd4ebb5e1"
      },
      "source": [
        "# Total number of rows\n",
        "print(f'Total number of rows: {df.shape[0]}')"
      ],
      "id": "FnLabjxm3Kzu",
      "execution_count": 3,
      "outputs": [
        {
          "output_type": "stream",
          "text": [
            "Total number of rows: 17249\n"
          ],
          "name": "stdout"
        }
      ]
    },
    {
      "cell_type": "code",
      "metadata": {
        "colab": {
          "base_uri": "https://localhost:8080/"
        },
        "id": "cbSsKbqSwvbH",
        "outputId": "86fbed4c-61bf-4df6-b9ae-41782cc453b8"
      },
      "source": [
        "# Print total count of NaN values per column\n",
        "print(df.apply(lambda col: col.isnull().sum()))"
      ],
      "id": "cbSsKbqSwvbH",
      "execution_count": 4,
      "outputs": [
        {
          "output_type": "stream",
          "text": [
            "Object Number                  0\n",
            "Is Highlight                   0\n",
            "Is Public Domain               0\n",
            "Object ID                      0\n",
            "Department                     0\n",
            "Object Name                    0\n",
            "Title                          0\n",
            "Culture                     1839\n",
            "Period                     17249\n",
            "Dynasty                    17249\n",
            "Reign                      17249\n",
            "Portfolio                  17249\n",
            "Artist Role                 6314\n",
            "Artist Prefix              15299\n",
            "Artist Display Name         6314\n",
            "Artist Display Bio          7017\n",
            "Artist Suffix              17188\n",
            "Artist Alpha Sort           6325\n",
            "Artist Nationality         11667\n",
            "Artist Begin Date           7033\n",
            "Artist End Date             6510\n",
            "Object Date                  624\n",
            "Object Begin Date              0\n",
            "Object End Date                0\n",
            "Medium                        18\n",
            "Dimensions                    30\n",
            "Credit Line                   40\n",
            "Geography Type              6823\n",
            "City                       11313\n",
            "State                      16435\n",
            "County                     16434\n",
            "Country                     6843\n",
            "Region                     16846\n",
            "Subregion                  17249\n",
            "Locale                     17249\n",
            "Locus                      17249\n",
            "Excavation                 17249\n",
            "River                      17249\n",
            "Classification                 0\n",
            "Rights and Reproduction    17155\n",
            "Link Resource                  0\n",
            "Metadata Date               2280\n",
            "Repository                     0\n",
            "Tags                        8783\n",
            "dtype: int64\n"
          ],
          "name": "stdout"
        }
      ]
    },
    {
      "cell_type": "code",
      "metadata": {
        "colab": {
          "base_uri": "https://localhost:8080/"
        },
        "id": "DDOKZZC415iE",
        "outputId": "934c3d64-10ef-460b-9ca8-4b06f2694a41"
      },
      "source": [
        "# Find all columns where total number of missing values are equal to number of rows in DataFarame\n",
        "columns_with_nan = df.loc[:, (df.isnull().sum(axis=0) == df.shape[0])].columns\n",
        "columns_with_nan"
      ],
      "id": "DDOKZZC415iE",
      "execution_count": 5,
      "outputs": [
        {
          "output_type": "execute_result",
          "data": {
            "text/plain": [
              "Index(['Period', 'Dynasty', 'Reign', 'Portfolio', 'Subregion', 'Locale',\n",
              "       'Locus', 'Excavation', 'River'],\n",
              "      dtype='object')"
            ]
          },
          "metadata": {
            "tags": []
          },
          "execution_count": 5
        }
      ]
    },
    {
      "cell_type": "code",
      "metadata": {
        "id": "wSE2R00w2l6S"
      },
      "source": [
        "# Drop columns with NaN values inplace\n",
        "df.drop(columns_with_nan, axis=1, inplace=True)"
      ],
      "id": "wSE2R00w2l6S",
      "execution_count": 6,
      "outputs": []
    },
    {
      "cell_type": "code",
      "metadata": {
        "colab": {
          "base_uri": "https://localhost:8080/"
        },
        "id": "JBCW_1i923OK",
        "outputId": "b60a2c3f-231e-4b53-98a2-dd1ffc2872f4"
      },
      "source": [
        "# Print total count of NaN values per column\n",
        "print(df.apply(lambda col: col.isnull().sum()))"
      ],
      "id": "JBCW_1i923OK",
      "execution_count": 7,
      "outputs": [
        {
          "output_type": "stream",
          "text": [
            "Object Number                  0\n",
            "Is Highlight                   0\n",
            "Is Public Domain               0\n",
            "Object ID                      0\n",
            "Department                     0\n",
            "Object Name                    0\n",
            "Title                          0\n",
            "Culture                     1839\n",
            "Artist Role                 6314\n",
            "Artist Prefix              15299\n",
            "Artist Display Name         6314\n",
            "Artist Display Bio          7017\n",
            "Artist Suffix              17188\n",
            "Artist Alpha Sort           6325\n",
            "Artist Nationality         11667\n",
            "Artist Begin Date           7033\n",
            "Artist End Date             6510\n",
            "Object Date                  624\n",
            "Object Begin Date              0\n",
            "Object End Date                0\n",
            "Medium                        18\n",
            "Dimensions                    30\n",
            "Credit Line                   40\n",
            "Geography Type              6823\n",
            "City                       11313\n",
            "State                      16435\n",
            "County                     16434\n",
            "Country                     6843\n",
            "Region                     16846\n",
            "Classification                 0\n",
            "Rights and Reproduction    17155\n",
            "Link Resource                  0\n",
            "Metadata Date               2280\n",
            "Repository                     0\n",
            "Tags                        8783\n",
            "dtype: int64\n"
          ],
          "name": "stdout"
        }
      ]
    },
    {
      "cell_type": "markdown",
      "metadata": {
        "id": "4dtwn1m933EL"
      },
      "source": [
        "**3. Find all columns in the data-frame that consist of a single, uniform value, and remove it or them from the DF.**"
      ],
      "id": "4dtwn1m933EL"
    },
    {
      "cell_type": "code",
      "metadata": {
        "colab": {
          "base_uri": "https://localhost:8080/"
        },
        "id": "l8NNzlODyBaz",
        "outputId": "9b2e5ef2-7234-427d-df62-56e322613ca8"
      },
      "source": [
        "# Print count of unique value per column\n",
        "print(df.apply(lambda col: col.nunique()))"
      ],
      "id": "l8NNzlODyBaz",
      "execution_count": 8,
      "outputs": [
        {
          "output_type": "stream",
          "text": [
            "Object Number              17232\n",
            "Is Highlight                   2\n",
            "Is Public Domain               2\n",
            "Object ID                  17249\n",
            "Department                     3\n",
            "Object Name                 1264\n",
            "Title                       6801\n",
            "Culture                       80\n",
            "Artist Role                  100\n",
            "Artist Prefix                127\n",
            "Artist Display Name         2776\n",
            "Artist Display Bio          2239\n",
            "Artist Suffix                 17\n",
            "Artist Alpha Sort           2774\n",
            "Artist Nationality            70\n",
            "Artist Begin Date            684\n",
            "Artist End Date              759\n",
            "Object Date                 2470\n",
            "Object Begin Date            292\n",
            "Object End Date              287\n",
            "Medium                      3351\n",
            "Dimensions                 10177\n",
            "Credit Line                 3208\n",
            "Geography Type                18\n",
            "City                         434\n",
            "State                         94\n",
            "County                        95\n",
            "Country                       68\n",
            "Region                        18\n",
            "Classification                27\n",
            "Rights and Reproduction        1\n",
            "Link Resource              17249\n",
            "Metadata Date                198\n",
            "Repository                     1\n",
            "Tags                        2538\n",
            "dtype: int64\n"
          ],
          "name": "stdout"
        }
      ]
    },
    {
      "cell_type": "code",
      "metadata": {
        "colab": {
          "base_uri": "https://localhost:8080/"
        },
        "id": "b5I4xYR40BlC",
        "outputId": "91576cf0-1db0-4cf1-ab49-fceb59ee0a9b"
      },
      "source": [
        "# Find all columns where total number of missing values are equal to number of rows in DataFarame\n",
        "columns_with_nan = df.loc[:, (df.nunique() == 1)].columns\n",
        "columns_with_nan"
      ],
      "id": "b5I4xYR40BlC",
      "execution_count": 9,
      "outputs": [
        {
          "output_type": "execute_result",
          "data": {
            "text/plain": [
              "Index(['Rights and Reproduction', 'Repository'], dtype='object')"
            ]
          },
          "metadata": {
            "tags": []
          },
          "execution_count": 9
        }
      ]
    },
    {
      "cell_type": "code",
      "metadata": {
        "id": "REO6f2tP5tSc"
      },
      "source": [
        "# Drop columns with NaN values inplace\n",
        "df.drop(columns_with_nan, axis=1, inplace=True)"
      ],
      "id": "REO6f2tP5tSc",
      "execution_count": 10,
      "outputs": []
    },
    {
      "cell_type": "code",
      "metadata": {
        "id": "Ybh-B1Bl7Ei1",
        "colab": {
          "base_uri": "https://localhost:8080/"
        },
        "outputId": "f483e61b-1db1-4efb-fdcb-09bd20438c98"
      },
      "source": [
        "# Print count of unique value per column\n",
        "print(df.apply(lambda col: col.nunique()))"
      ],
      "id": "Ybh-B1Bl7Ei1",
      "execution_count": 11,
      "outputs": [
        {
          "output_type": "stream",
          "text": [
            "Object Number          17232\n",
            "Is Highlight               2\n",
            "Is Public Domain           2\n",
            "Object ID              17249\n",
            "Department                 3\n",
            "Object Name             1264\n",
            "Title                   6801\n",
            "Culture                   80\n",
            "Artist Role              100\n",
            "Artist Prefix            127\n",
            "Artist Display Name     2776\n",
            "Artist Display Bio      2239\n",
            "Artist Suffix             17\n",
            "Artist Alpha Sort       2774\n",
            "Artist Nationality        70\n",
            "Artist Begin Date        684\n",
            "Artist End Date          759\n",
            "Object Date             2470\n",
            "Object Begin Date        292\n",
            "Object End Date          287\n",
            "Medium                  3351\n",
            "Dimensions             10177\n",
            "Credit Line             3208\n",
            "Geography Type            18\n",
            "City                     434\n",
            "State                     94\n",
            "County                    95\n",
            "Country                   68\n",
            "Region                    18\n",
            "Classification            27\n",
            "Link Resource          17249\n",
            "Metadata Date            198\n",
            "Tags                    2538\n",
            "dtype: int64\n"
          ],
          "name": "stdout"
        }
      ]
    },
    {
      "cell_type": "markdown",
      "metadata": {
        "id": "tNqLZqc-6FLL"
      },
      "source": [
        "**4. The column Artist Role indicates the relationship of the entity cited in Artist Display Name to the object.  Suppose we want to populate this column with integers succinctly summarizing each role as follows:\\\n",
        "a) Artist or Maker or Manufacturer should be replaced by 1.\\\n",
        "b) Designer or Decorator or Modeler should be replaced by 2.\\\n",
        "c) Publisher or Patron or Retailer should be replaced by 3.\\\n",
        "d) All Others or Missing should be replaced by 4.\\\n",
        "Assuming entries that include multiple roles should use the smallest relevant value, reformat the Artist Role column so that each entry contains only a single value from the above (1 to 4).**\n"
      ],
      "id": "tNqLZqc-6FLL"
    },
    {
      "cell_type": "code",
      "metadata": {
        "id": "gkvmmX3hXTHf",
        "colab": {
          "base_uri": "https://localhost:8080/"
        },
        "outputId": "ef94e773-4ee2-47fe-9e43-db158cf91b38"
      },
      "source": [
        "df['Artist Role'].unique()"
      ],
      "id": "gkvmmX3hXTHf",
      "execution_count": 12,
      "outputs": [
        {
          "output_type": "execute_result",
          "data": {
            "text/plain": [
              "array(['Maker', nan, 'Artist', 'Designer|Manufacturer', 'Designer|Maker',\n",
              "       'Designer', 'Maker|Maker', 'Maker|Designer', 'Retailer',\n",
              "       'Manufacturer|Maker', 'Designer|Manufacturer|Maker',\n",
              "       'Retailer|Maker', 'Maker|Maker|Decorator|Decorator|Decorator',\n",
              "       'Artist|Artist', 'Maker|Printer', 'Printer', 'Publisher',\n",
              "       'Publisher|Publisher', 'Manufacturer|Designer',\n",
              "       'Manufacturer|Manufacturer', 'Manufacturer',\n",
              "       'Decorator|Manufacturer', 'Designer|Maker|Maker',\n",
              "       'Maker|Manufacturer', 'Maker|Maker|Designer',\n",
              "       'Designer|Manufacturer|Decorator|Designer', 'Artist|Manufacturer',\n",
              "       'Former Attribution', 'Lithographer', 'Maker|Maker|Maker',\n",
              "       'Maker|Maker|Manufacturer', 'Manufacturer|Artist',\n",
              "       'Manufacturer|Retailer', 'Maker|Maker|Artist', 'Decorator',\n",
              "       'Maker|Retailer', 'Maker|Decorator', 'Decorator|Maker',\n",
              "       'Manufacturer|Designer|Maker', 'Manufacturer|Maker|Designer',\n",
              "       'Maker|Artist', 'Designer|Artist', 'Author',\n",
              "       'Designer|Manufacturer|Manufacturer', 'Decorator|Maker|Maker',\n",
              "       'Author|Publisher', 'Publisher|Author', 'Maker|Artist|Artist',\n",
              "       'Manufacturer|Designer|Manufacturer', 'Maker|Maker|Patentee',\n",
              "       'Artist|Maker|Designer', 'Maker|Manufacturer|Manufacturer',\n",
              "       'Designer|Retailer', 'Designer|Maker|Manufacturer',\n",
              "       'Artist|Artist|Artist', 'Artist|Former Attribution',\n",
              "       'Former Attribution|Artist', 'Manufacturer|Maker|Maker',\n",
              "       'Artist|Maker',\n",
              "       'Maker|Maker|Maker|Maker|Maker|Maker|Maker|Maker|Maker|Maker|Maker|Maker|Maker|Maker|Maker|Maker|Maker|Maker|Maker|Maker|Maker|Maker|Maker|Maker|Maker',\n",
              "       'Designer|Maker|Designer', 'Maker|Manufacturer|Designer',\n",
              "       'Manufacturer|Decorator', 'Artist|Designer|Manufacturer',\n",
              "       'Artist|Designer', 'Designer|Manufacturer|Artist',\n",
              "       'Manufacturer|Designer|Artist', 'Designer|Artist|Maker',\n",
              "       'Artist|Designer|Artist', 'Printer|Publisher',\n",
              "       'Maker|Maker|Decorator|Maker', 'Artist|Artist|Maker',\n",
              "       'Artist|Maker|Maker', 'Artist|Maker|Artist',\n",
              "       'Artist|Maker|Maker|Maker', 'Maker|Artist|Maker|Maker',\n",
              "       'Maker|Artist|Maker', 'Patentee|Manufacturer',\n",
              "       'Manufacturer|Patentee', 'Maker|Maker|Artist|Maker',\n",
              "       'Maker|Maker|Maker|Artist', 'Maker|Artist|Maker|Maker|Artist',\n",
              "       'Maker|Patron|Artist|Maker|Maker', 'Artist|Artist|Maker|Maker',\n",
              "       'Artist|Maker|Maker|Artist', 'Designer|Manufacturer|Decorator',\n",
              "       'Artist|Manufacturer|Artist', 'Decorator|Manufacturer|Designer',\n",
              "       'Manufacturer|Artist|Artist', 'Manufacturer|Decorator|Designer',\n",
              "       'Designer|Maker|Decorator|Manufacturer',\n",
              "       'Decorator|Designer|Manufacturer', 'Artist|Manufacturer|Decorator',\n",
              "       'Designer|Designer', 'Manufacturer|Decorator|Manufacturer',\n",
              "       'Decorator|Manufacturer|Manufacturer', 'Source', 'Maker|Modeler',\n",
              "       'Maker|Designer|Designer', 'Modeler|Maker',\n",
              "       'Manufacturer|Maker|Maker|Maker'], dtype=object)"
            ]
          },
          "metadata": {
            "tags": []
          },
          "execution_count": 12
        }
      ]
    },
    {
      "cell_type": "code",
      "metadata": {
        "id": "ifi1uDRXWnIg"
      },
      "source": [
        "def convert_artist_role(artists):\n",
        "  if pd.isnull(artists):\n",
        "    return 4\n",
        "  \n",
        "  result = []\n",
        "  for role in artists.split('|'):\n",
        "    if role in ['Artist', 'Maker', 'Manufacturer']:\n",
        "      result.append(1)\n",
        "    elif role in ['Designer', 'Decorator', 'Modeler']:\n",
        "      result.append(2)\n",
        "    elif role in ['Publisher', 'Patron', 'Retaile']:\n",
        "      result.append(3)\n",
        "    else:\n",
        "      result.append(4)\n",
        "  return min(result)\n",
        "\n",
        "# Convert Role string to numeric value\n",
        "df['Artist Role'] = df['Artist Role'].apply(lambda row: convert_artist_role(row))"
      ],
      "id": "ifi1uDRXWnIg",
      "execution_count": 13,
      "outputs": []
    },
    {
      "cell_type": "code",
      "metadata": {
        "id": "MyULS4xWdv6C",
        "colab": {
          "base_uri": "https://localhost:8080/"
        },
        "outputId": "f7121c3a-6684-4a5b-cca5-530d410d6c8a"
      },
      "source": [
        "df['Artist Role'].unique()"
      ],
      "id": "MyULS4xWdv6C",
      "execution_count": 14,
      "outputs": [
        {
          "output_type": "execute_result",
          "data": {
            "text/plain": [
              "array([1, 4, 2, 3])"
            ]
          },
          "metadata": {
            "tags": []
          },
          "execution_count": 14
        }
      ]
    },
    {
      "cell_type": "markdown",
      "metadata": {
        "id": "vXsjHSKE6rAP"
      },
      "source": [
        "**5. Locate at least 3 columns in your modified data-frame that have some missing data.  For each of these:\\\n",
        "i. Compute the proportion of the column that is missing as a percentage.\\\n",
        "ii. For the missing values, substitute the most common value (if more than one are equally as frequent, choose one arbitrarily).  In a sentence or two, explain whether the replacements are reasonable or not for each column.**\n"
      ],
      "id": "vXsjHSKE6rAP"
    },
    {
      "cell_type": "code",
      "metadata": {
        "id": "ODGW2PpsgZhV",
        "colab": {
          "base_uri": "https://localhost:8080/"
        },
        "outputId": "74cc9e7e-661c-44c3-db35-79bce2405a5b"
      },
      "source": [
        "# Total number of rows\n",
        "print(f'Total number of rows: {df.shape[0]}')"
      ],
      "id": "ODGW2PpsgZhV",
      "execution_count": 15,
      "outputs": [
        {
          "output_type": "stream",
          "text": [
            "Total number of rows: 17249\n"
          ],
          "name": "stdout"
        }
      ]
    },
    {
      "cell_type": "code",
      "metadata": {
        "id": "WuAquqsOehMg",
        "colab": {
          "base_uri": "https://localhost:8080/"
        },
        "outputId": "a758bfca-31f2-475a-f568-fda9724eda73"
      },
      "source": [
        "# Print total missing values per column \n",
        "df.isna().sum()"
      ],
      "id": "WuAquqsOehMg",
      "execution_count": 16,
      "outputs": [
        {
          "output_type": "execute_result",
          "data": {
            "text/plain": [
              "Object Number              0\n",
              "Is Highlight               0\n",
              "Is Public Domain           0\n",
              "Object ID                  0\n",
              "Department                 0\n",
              "Object Name                0\n",
              "Title                      0\n",
              "Culture                 1839\n",
              "Artist Role                0\n",
              "Artist Prefix          15299\n",
              "Artist Display Name     6314\n",
              "Artist Display Bio      7017\n",
              "Artist Suffix          17188\n",
              "Artist Alpha Sort       6325\n",
              "Artist Nationality     11667\n",
              "Artist Begin Date       7033\n",
              "Artist End Date         6510\n",
              "Object Date              624\n",
              "Object Begin Date          0\n",
              "Object End Date            0\n",
              "Medium                    18\n",
              "Dimensions                30\n",
              "Credit Line               40\n",
              "Geography Type          6823\n",
              "City                   11313\n",
              "State                  16435\n",
              "County                 16434\n",
              "Country                 6843\n",
              "Region                 16846\n",
              "Classification             0\n",
              "Link Resource              0\n",
              "Metadata Date           2280\n",
              "Tags                    8783\n",
              "dtype: int64"
            ]
          },
          "metadata": {
            "tags": []
          },
          "execution_count": 16
        }
      ]
    },
    {
      "cell_type": "code",
      "metadata": {
        "colab": {
          "base_uri": "https://localhost:8080/"
        },
        "id": "T4sI_K4b6vVr",
        "outputId": "263c5f7f-82c1-4206-8d9d-bedd452ad6ce"
      },
      "source": [
        "# Print total count of NaN values per column in percentage\n",
        "percent_missing = round(df.isnull().sum() * 100 / df.shape[0],2)\n",
        "percent_missing"
      ],
      "id": "T4sI_K4b6vVr",
      "execution_count": 17,
      "outputs": [
        {
          "output_type": "execute_result",
          "data": {
            "text/plain": [
              "Object Number           0.00\n",
              "Is Highlight            0.00\n",
              "Is Public Domain        0.00\n",
              "Object ID               0.00\n",
              "Department              0.00\n",
              "Object Name             0.00\n",
              "Title                   0.00\n",
              "Culture                10.66\n",
              "Artist Role             0.00\n",
              "Artist Prefix          88.69\n",
              "Artist Display Name    36.61\n",
              "Artist Display Bio     40.68\n",
              "Artist Suffix          99.65\n",
              "Artist Alpha Sort      36.67\n",
              "Artist Nationality     67.64\n",
              "Artist Begin Date      40.77\n",
              "Artist End Date        37.74\n",
              "Object Date             3.62\n",
              "Object Begin Date       0.00\n",
              "Object End Date         0.00\n",
              "Medium                  0.10\n",
              "Dimensions              0.17\n",
              "Credit Line             0.23\n",
              "Geography Type         39.56\n",
              "City                   65.59\n",
              "State                  95.28\n",
              "County                 95.28\n",
              "Country                39.67\n",
              "Region                 97.66\n",
              "Classification          0.00\n",
              "Link Resource           0.00\n",
              "Metadata Date          13.22\n",
              "Tags                   50.92\n",
              "dtype: float64"
            ]
          },
          "metadata": {
            "tags": []
          },
          "execution_count": 17
        }
      ]
    },
    {
      "cell_type": "code",
      "metadata": {
        "id": "cKY7xq94kXNr"
      },
      "source": [
        "# Find a list of the most common values and impute it intead of missing field \n",
        "df = df.apply(lambda col: col.fillna(col.value_counts()[col.value_counts() == col.value_counts().max()].sample().index[0]))"
      ],
      "id": "cKY7xq94kXNr",
      "execution_count": 18,
      "outputs": []
    },
    {
      "cell_type": "code",
      "metadata": {
        "id": "BuCJFhXJl0Y7",
        "colab": {
          "base_uri": "https://localhost:8080/"
        },
        "outputId": "32292e72-7f0c-405e-f597-a1d3da11ad59"
      },
      "source": [
        "# Print total count of NaN values per column in percentage\n",
        "percent_missing = round(df.isnull().sum() * 100 / df.shape[0],2)\n",
        "percent_missing"
      ],
      "id": "BuCJFhXJl0Y7",
      "execution_count": 19,
      "outputs": [
        {
          "output_type": "execute_result",
          "data": {
            "text/plain": [
              "Object Number          0.0\n",
              "Is Highlight           0.0\n",
              "Is Public Domain       0.0\n",
              "Object ID              0.0\n",
              "Department             0.0\n",
              "Object Name            0.0\n",
              "Title                  0.0\n",
              "Culture                0.0\n",
              "Artist Role            0.0\n",
              "Artist Prefix          0.0\n",
              "Artist Display Name    0.0\n",
              "Artist Display Bio     0.0\n",
              "Artist Suffix          0.0\n",
              "Artist Alpha Sort      0.0\n",
              "Artist Nationality     0.0\n",
              "Artist Begin Date      0.0\n",
              "Artist End Date        0.0\n",
              "Object Date            0.0\n",
              "Object Begin Date      0.0\n",
              "Object End Date        0.0\n",
              "Medium                 0.0\n",
              "Dimensions             0.0\n",
              "Credit Line            0.0\n",
              "Geography Type         0.0\n",
              "City                   0.0\n",
              "State                  0.0\n",
              "County                 0.0\n",
              "Country                0.0\n",
              "Region                 0.0\n",
              "Classification         0.0\n",
              "Link Resource          0.0\n",
              "Metadata Date          0.0\n",
              "Tags                   0.0\n",
              "dtype: float64"
            ]
          },
          "metadata": {
            "tags": []
          },
          "execution_count": 19
        }
      ]
    },
    {
      "cell_type": "markdown",
      "metadata": {
        "id": "DHZhsS5X6vvX"
      },
      "source": [
        "**6. Produce simple summary statistics (mean, quartile information, etc.) in tabular format, as well as histogram representations of all numeric columns (if you follow the approach we have taken to this process in class, this should be trivial).  Can you glean anything meaningful or notable about the data from these depictions?  Explain why or why not in about 1 paragraph (using comments)**"
      ],
      "id": "DHZhsS5X6vvX"
    },
    {
      "cell_type": "code",
      "metadata": {
        "colab": {
          "base_uri": "https://localhost:8080/"
        },
        "id": "mlkqsn_n6zny",
        "outputId": "68853b42-955e-4a56-d041-63f7689d32cc"
      },
      "source": [
        "# Print type for each column\n",
        "df.dtypes"
      ],
      "id": "mlkqsn_n6zny",
      "execution_count": 20,
      "outputs": [
        {
          "output_type": "execute_result",
          "data": {
            "text/plain": [
              "Object Number          object\n",
              "Is Highlight             bool\n",
              "Is Public Domain         bool\n",
              "Object ID               int64\n",
              "Department             object\n",
              "Object Name            object\n",
              "Title                  object\n",
              "Culture                object\n",
              "Artist Role             int64\n",
              "Artist Prefix          object\n",
              "Artist Display Name    object\n",
              "Artist Display Bio     object\n",
              "Artist Suffix          object\n",
              "Artist Alpha Sort      object\n",
              "Artist Nationality     object\n",
              "Artist Begin Date      object\n",
              "Artist End Date        object\n",
              "Object Date            object\n",
              "Object Begin Date       int64\n",
              "Object End Date         int64\n",
              "Medium                 object\n",
              "Dimensions             object\n",
              "Credit Line            object\n",
              "Geography Type         object\n",
              "City                   object\n",
              "State                  object\n",
              "County                 object\n",
              "Country                object\n",
              "Region                 object\n",
              "Classification         object\n",
              "Link Resource          object\n",
              "Metadata Date          object\n",
              "Tags                   object\n",
              "dtype: object"
            ]
          },
          "metadata": {
            "tags": []
          },
          "execution_count": 20
        }
      ]
    },
    {
      "cell_type": "code",
      "metadata": {
        "id": "auqqVrhlmV0r",
        "colab": {
          "base_uri": "https://localhost:8080/",
          "height": 300
        },
        "outputId": "343f001f-5fcb-4e1a-eec7-03d43764504e"
      },
      "source": [
        "# Print simple summary statistics \n",
        "df.describe()"
      ],
      "id": "auqqVrhlmV0r",
      "execution_count": 21,
      "outputs": [
        {
          "output_type": "execute_result",
          "data": {
            "text/html": [
              "<div>\n",
              "<style scoped>\n",
              "    .dataframe tbody tr th:only-of-type {\n",
              "        vertical-align: middle;\n",
              "    }\n",
              "\n",
              "    .dataframe tbody tr th {\n",
              "        vertical-align: top;\n",
              "    }\n",
              "\n",
              "    .dataframe thead th {\n",
              "        text-align: right;\n",
              "    }\n",
              "</style>\n",
              "<table border=\"1\" class=\"dataframe\">\n",
              "  <thead>\n",
              "    <tr style=\"text-align: right;\">\n",
              "      <th></th>\n",
              "      <th>Object ID</th>\n",
              "      <th>Artist Role</th>\n",
              "      <th>Object Begin Date</th>\n",
              "      <th>Object End Date</th>\n",
              "    </tr>\n",
              "  </thead>\n",
              "  <tbody>\n",
              "    <tr>\n",
              "      <th>count</th>\n",
              "      <td>17249.000000</td>\n",
              "      <td>17249.000000</td>\n",
              "      <td>17249.000000</td>\n",
              "      <td>17249.000000</td>\n",
              "    </tr>\n",
              "    <tr>\n",
              "      <th>mean</th>\n",
              "      <td>9485.755232</td>\n",
              "      <td>2.125978</td>\n",
              "      <td>1829.240594</td>\n",
              "      <td>1849.698939</td>\n",
              "    </tr>\n",
              "    <tr>\n",
              "      <th>std</th>\n",
              "      <td>5675.652561</td>\n",
              "      <td>1.449227</td>\n",
              "      <td>90.863245</td>\n",
              "      <td>87.551863</td>\n",
              "    </tr>\n",
              "    <tr>\n",
              "      <th>min</th>\n",
              "      <td>1.000000</td>\n",
              "      <td>1.000000</td>\n",
              "      <td>0.000000</td>\n",
              "      <td>0.000000</td>\n",
              "    </tr>\n",
              "    <tr>\n",
              "      <th>25%</th>\n",
              "      <td>4650.000000</td>\n",
              "      <td>1.000000</td>\n",
              "      <td>1800.000000</td>\n",
              "      <td>1816.000000</td>\n",
              "    </tr>\n",
              "    <tr>\n",
              "      <th>50%</th>\n",
              "      <td>9277.000000</td>\n",
              "      <td>1.000000</td>\n",
              "      <td>1835.000000</td>\n",
              "      <td>1860.000000</td>\n",
              "    </tr>\n",
              "    <tr>\n",
              "      <th>75%</th>\n",
              "      <td>14115.000000</td>\n",
              "      <td>4.000000</td>\n",
              "      <td>1880.000000</td>\n",
              "      <td>1893.000000</td>\n",
              "    </tr>\n",
              "    <tr>\n",
              "      <th>max</th>\n",
              "      <td>21792.000000</td>\n",
              "      <td>4.000000</td>\n",
              "      <td>1976.000000</td>\n",
              "      <td>2000.000000</td>\n",
              "    </tr>\n",
              "  </tbody>\n",
              "</table>\n",
              "</div>"
            ],
            "text/plain": [
              "          Object ID   Artist Role  Object Begin Date  Object End Date\n",
              "count  17249.000000  17249.000000       17249.000000     17249.000000\n",
              "mean    9485.755232      2.125978        1829.240594      1849.698939\n",
              "std     5675.652561      1.449227          90.863245        87.551863\n",
              "min        1.000000      1.000000           0.000000         0.000000\n",
              "25%     4650.000000      1.000000        1800.000000      1816.000000\n",
              "50%     9277.000000      1.000000        1835.000000      1860.000000\n",
              "75%    14115.000000      4.000000        1880.000000      1893.000000\n",
              "max    21792.000000      4.000000        1976.000000      2000.000000"
            ]
          },
          "metadata": {
            "tags": []
          },
          "execution_count": 21
        }
      ]
    },
    {
      "cell_type": "code",
      "metadata": {
        "id": "R5F7u5enms2-",
        "colab": {
          "base_uri": "https://localhost:8080/",
          "height": 282
        },
        "outputId": "9ae45041-6755-4fe9-9589-7f62a740b5f8"
      },
      "source": [
        "df['Object ID'].hist()"
      ],
      "id": "R5F7u5enms2-",
      "execution_count": null,
      "outputs": [
        {
          "output_type": "execute_result",
          "data": {
            "text/plain": [
              "<matplotlib.axes._subplots.AxesSubplot at 0x7f53b920f110>"
            ]
          },
          "metadata": {
            "tags": []
          },
          "execution_count": 281
        },
        {
          "output_type": "display_data",
          "data": {
            "image/png": "[encoded data removed]",
            "text/plain": [
              "<Figure size 432x288 with 1 Axes>"
            ]
          },
          "metadata": {
            "tags": [],
            "needs_background": "light"
          }
        }
      ]
    },
    {
      "cell_type": "code",
      "metadata": {
        "id": "VoW0xf4fnMPr",
        "colab": {
          "base_uri": "https://localhost:8080/",
          "height": 282
        },
        "outputId": "ac3bd15c-4619-4337-d767-7c00aa3bc0af"
      },
      "source": [
        "df['Object Begin Date'].hist()"
      ],
      "id": "VoW0xf4fnMPr",
      "execution_count": null,
      "outputs": [
        {
          "output_type": "execute_result",
          "data": {
            "text/plain": [
              "<matplotlib.axes._subplots.AxesSubplot at 0x7f53b81457d0>"
            ]
          },
          "metadata": {
            "tags": []
          },
          "execution_count": 283
        },
        {
          "output_type": "display_data",
          "data": {
            "image/png": "[encoded data removed]",
            "text/plain": [
              "<Figure size 432x288 with 1 Axes>"
            ]
          },
          "metadata": {
            "tags": [],
            "needs_background": "light"
          }
        }
      ]
    },
    {
      "cell_type": "code",
      "metadata": {
        "id": "GIL5hr8bnQ_-",
        "colab": {
          "base_uri": "https://localhost:8080/",
          "height": 282
        },
        "outputId": "69ada775-6a02-4aa2-86b9-f5947a97facd"
      },
      "source": [
        "df['Object End Date'].hist()"
      ],
      "id": "GIL5hr8bnQ_-",
      "execution_count": null,
      "outputs": [
        {
          "output_type": "execute_result",
          "data": {
            "text/plain": [
              "<matplotlib.axes._subplots.AxesSubplot at 0x7f53b7e75890>"
            ]
          },
          "metadata": {
            "tags": []
          },
          "execution_count": 284
        },
        {
          "output_type": "display_data",
          "data": {
            "image/png": "[encoded data removed]",
            "text/plain": [
              "<Figure size 432x288 with 1 Axes>"
            ]
          },
          "metadata": {
            "tags": [],
            "needs_background": "light"
          }
        }
      ]
    },
    {
      "cell_type": "code",
      "metadata": {
        "id": "EVWcRMs5re33",
        "outputId": "8e133b09-6a44-461f-c594-4b4b982868a4",
        "colab": {
          "base_uri": "https://localhost:8080/",
          "height": 282
        }
      },
      "source": [
        "df['Artist Role'].hist()"
      ],
      "id": "EVWcRMs5re33",
      "execution_count": 22,
      "outputs": [
        {
          "output_type": "execute_result",
          "data": {
            "text/plain": [
              "<matplotlib.axes._subplots.AxesSubplot at 0x7f669f170050>"
            ]
          },
          "metadata": {
            "tags": []
          },
          "execution_count": 22
        },
        {
          "output_type": "display_data",
          "data": {
            "image/png": "[encoded data removed]",
            "text/plain": [
              "<Figure size 432x288 with 1 Axes>"
            ]
          },
          "metadata": {
            "tags": [],
            "needs_background": "light"
          }
        }
      ]
    },
    {
      "cell_type": "markdown",
      "metadata": {
        "id": "lLjjlhksoVs9"
      },
      "source": [
        ">From the date above, we can see that the ealiest art was made at 1829 and ealist finished at 1849.  The latest art has been made at 1976 and the latest finished at 2000. The majority of arts the museum have were from 1829 to 1849. \n",
        "Around 3000 arts have been made in from 16th to 18th centuries and more then 14000 arts are from 19th century. "
      ],
      "id": "lLjjlhksoVs9"
    }
  ]
}