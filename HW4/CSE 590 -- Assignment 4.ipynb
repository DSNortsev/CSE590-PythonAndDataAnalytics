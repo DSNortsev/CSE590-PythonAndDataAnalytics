{
 "cells": [
  {
   "cell_type": "markdown",
   "metadata": {},
   "source": [
    "## CSE 590 Assignment 4 (Due 4/21/21)\n",
    "1. (Trends, Searches, and Sentiment - 60 pts) <br>a. Use Google's Trends API to determine the available trending topics for a city of your choice, and assign a tweet volume of 5000 to any trend with no volume provided. <br>b. After sorting the trends in descending order by volume, create a bar graph with each (sorted) trend on the x-axis against its volume on the y-axis. <br>c. Use the Twitter Search API to find 100 tweets for each of the three most popular trends in the chosen city, and preprocess their associated tweet text (preferring extended tweet text, if available) in a manner appropriate for tweets. <br>d. Use `TextBlob` to determine the sentiment for each set of 100 tweets.  Do you notice a substantial difference in the proportion of positive and negative sentiment for the three trends?  Try to theorize why or why not in a paragraph.   \n",
    "\n",
    "2. (Machine Learning - 40 pts) <br>a. Choose one of the [toy datasets](https://scikit-learn.org/stable/datasets/toy_dataset.html) bundled with sklearn **other than the digits dataset**. Train **three** distinct sklearn classification estimators for the chosen dataset and compare the results to see which one performs the best when using **2-fold cross-validation**.<br> b. Repeat a. for **20-fold cross-validation**. Explain in a paragraph the difference in your results when using 20-fold vs 2-fold cross-validation (if any).\n",
    "\n"
   ]
  },
  {
   "cell_type": "code",
   "execution_count": null,
   "metadata": {},
   "outputs": [],
   "source": []
  }
 ],
 "metadata": {
  "kernelspec": {
   "display_name": "Python 3",
   "language": "python",
   "name": "python3"
  },
  "language_info": {
   "codemirror_mode": {
    "name": "ipython",
    "version": 3
   },
   "file_extension": ".py",
   "mimetype": "text/x-python",
   "name": "python",
   "nbconvert_exporter": "python",
   "pygments_lexer": "ipython3",
   "version": "3.9.1"
  }
 },
 "nbformat": 4,
 "nbformat_minor": 4
}
