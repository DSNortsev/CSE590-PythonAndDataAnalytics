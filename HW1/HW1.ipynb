{
 "cells": [
  {
   "cell_type": "markdown",
   "metadata": {
    "colab_type": "text",
    "id": "view-in-github"
   },
   "source": [
    "<a href=\"https://colab.research.google.com/github/DSNortsev/CSE590-PythonAndDataAnalytics/blob/main/HW1/HW1.ipynb\" target=\"_parent\"><img src=\"https://colab.research.google.com/assets/colab-badge.svg\" alt=\"Open In Colab\"/></a>"
   ]
  },
  {
   "cell_type": "markdown",
   "metadata": {
    "id": "4wAKUJZyTHmD"
   },
   "source": [
    "## The Golem and the Imp\n",
    "\n",
    "<p align=\"justify\">\n",
    "A lazy wizard has summoned an imp into his tower to perform chores and menial tasks.  The imp finds this arrangement boring and wishes to escape the tower for more entertaining pursuits.   Unfortunately for it, the wizard has animated a mechanical construct (golem) to keep an eye on the imp.  In a lucky turn of events, the imp has located a secret trap door leading into the cellar tunnels, which eventually leads to an escape to the surface outside the tower.   The bad news is that the golem is right on its heels.  One of two events is about to transpire: either the imp is going to escape the clutches of the wizard to sweet open-air and freedom, or it is going to be recaptured and return to a dull life in the tower.\n",
    "</p>\n",
    "\n",
    "<p align=\"justify\">\n",
    "<b>1)</b>(70 pts) You are to create an IPython notebook file entitled ChaseSimulation.ipynb with an obvious cell that performs a simulation of the imp-golem chase to the surface.  Assume the following rules:<br></br>\n",
    "<b>i.</b> The tunnel is 50 feet in length (beginning at foot 0, ending at foot 50).  The golem starts at the beginning (foot 0), while the imp has a short head-start (at foot 5).<br></br>\n",
    "<b>ii.</b> While in the tunnel, the imp moves a bit awkwardly between 1 and 7 feet (randomly) every second, while the golem moves at a slow but steady 3-4 feet (randomly) every second.<br></br>\n",
    "<b>iii.</b> If the imp reaches foot 50 (the exit to the surface) it can use its wings to easily escape.  But if the golem’s position overtakes the imp’s position beforehand, the imp is captured and its fun ends.<br></br>\n",
    "<b>iv.</b> You are to simulate every second of the chase by incrementing the golem’s and imp’s position according to the rules in part ii. above, culminating with one of the scenarios described in part iii.  You must print details regarding each second’s passing (where the golem and imp are), up until the concluding second – at which point you should simply print the outcome. (See examples below.) \n",
    "</p> \n",
    "\n",
    "\n",
    "**Ex 1 (The imp escapes):**<br></br>\n",
    "G----I--------------------------------------------X\t0s<br></br>\n",
    "----G-------I-------------------------------------X\t1s<br></br>\n",
    "--------G---------I-------------------------------X\t2s<br></br>\n",
    "-----------G----------I---------------------------X\t3s<br></br>\n",
    "---------------G----------I-----------------------X\t4s<br></br>\n",
    "------------------G-----------I-------------------X\t5s<br></br>\n",
    "----------------------G-----------I---------------X\t6s<br></br>\n",
    "--------------------------G--------------I--------X\t7s<br></br>\n",
    "------------------------------G----------------I--X\t8s<br></br>\n",
    "THE IMP HAS ESCAPED TO FREEDOM AFTER 9 SECONDS.  MISCHIEF AND TRICKERY AWAIT!\n",
    "<br></br>\n",
    "\n",
    "**Ex 2 (The golem captures the imp):**<br></br>\n",
    "G----I--------------------------------------------X\t0s<br></br>\n",
    "----G---I-----------------------------------------X\t1s<br></br>\n",
    "-------G---I--------------------------------------X\t2s<br></br>\n",
    "-----------G--I-----------------------------------X\t3s<br></br>\n",
    "---------------G-I--------------------------------X\t4s<br></br>\n",
    "SADLY, IT’S BACK TO THE TOWER FOR THE IMP AFTER A 5 SECOND-CHASE.<br></br>\n"
   ]
  },
  {
   "cell_type": "code",
   "execution_count": 3,
   "metadata": {
    "id": "R82tldlAyxjF"
   },
   "outputs": [],
   "source": [
    "# import libraries\n",
    "import random\n",
    "import time\n",
    "\n",
    "# Initiating variable \n",
    "\n",
    "# Imp's name\n",
    "imp = 'I' \n",
    "# Imp's initial position\n",
    "imp_position = 5 - 1 # Deduct 0 since list index starts with 0\n",
    "# Imp's allowed steps ahead\n",
    "imp_step = (1, 7) \n",
    "\n",
    "# Golem's name\n",
    "golem = 'G' \n",
    "# Golem's initial position\n",
    "golem_position = 0 \n",
    "# Golem's allowed steps ahead\n",
    "golem_step = (3, 4)\n",
    "\n",
    "# Sleep time between each game \n",
    "sleep_time = 1\n",
    "# Tunnel length\n",
    "TUNNEL_LENGTH = 50\n",
    "\n",
    "\n",
    "def move(steps):\n",
    "  \"\"\" Move function randomly select number of steps for player and accepts one argument:\n",
    "      step - the range how many steps the player can step ahead \"\"\"\n",
    "  return random.randint(*steps)\n",
    "\n",
    "\n",
    "def play(imp_position, golem_position):\n",
    "  \"\"\" Play function plays game for imp and golem and accepts 2 arguments:\n",
    "        - imp_position: imp's inital position\n",
    "        - golem_position: golem's initial position\n",
    "  \"\"\" \n",
    "  # Total number of games\n",
    "  count = 0\n",
    "\n",
    "  # Play till imp reaches the end of the tunnel\n",
    "  while imp_position <= TUNNEL_LENGTH:\n",
    "    # Initiate the tunnel\n",
    "    tunnel = ['-'] * TUNNEL_LENGTH + ['X ']\n",
    "\n",
    "    # Check if it is an inital position\n",
    "    if count != 0:\n",
    "      imp_position += move(imp_step)\n",
    "      golem_position += move(golem_step)\n",
    "\n",
    "    if imp_position > golem_position and imp_position <= TUNNEL_LENGTH\\\n",
    "       and golem_position <= TUNNEL_LENGTH:\n",
    "      tunnel[imp_position] = imp\n",
    "      tunnel[golem_position] = golem\n",
    "      print(*tunnel, count, 's', sep='')\n",
    "      count += 1\n",
    "      time.sleep(sleep_time)\n",
    "    elif golem_position >= imp_position:\n",
    "      print(f'SADLY, IT’S BACK TO THE TOWER FOR THE IMP AFTER A {count} SECOND-CHASE.')\n",
    "      break\n",
    "    else:\n",
    "      print(f'THE IMP HAS ESCAPED TO FREEDOM AFTER {count} SECONDS. MISCHIEF AND TRICKERY AWAIT!')\n",
    "      break"
   ]
  },
  {
   "cell_type": "code",
   "execution_count": 4,
   "metadata": {
    "colab": {
     "base_uri": "https://localhost:8080/"
    },
    "id": "Fq94HZwB6U-K",
    "outputId": "6532d7d3-414e-4979-f48e-95550279a0e1"
   },
   "outputs": [
    {
     "name": "stdout",
     "output_type": "stream",
     "text": [
      "G---I---------------------------------------------X 0s\n",
      "---G---I------------------------------------------X 1s\n",
      "------G---I---------------------------------------X 2s\n",
      "----------G------I--------------------------------X 3s\n",
      "--------------G-----I-----------------------------X 4s\n",
      "-----------------G--------I-----------------------X 5s\n",
      "---------------------G---------I------------------X 6s\n",
      "------------------------G------------I------------X 7s\n",
      "---------------------------G-------------I--------X 8s\n",
      "-------------------------------G--------------I---X 9s\n",
      "THE IMP HAS ESCAPED TO FREEDOM AFTER 10 SECONDS. MISCHIEF AND TRICKERY AWAIT!\n"
     ]
    }
   ],
   "source": [
    "play(imp_position, golem_position)"
   ]
  }
 ],
 "metadata": {
  "colab": {
   "include_colab_link": true,
   "name": "HW1.ipynb",
   "provenance": []
  },
  "kernelspec": {
   "display_name": "Python 3",
   "language": "python",
   "name": "python3"
  },
  "language_info": {
   "codemirror_mode": {
    "name": "ipython",
    "version": 3
   },
   "file_extension": ".py",
   "mimetype": "text/x-python",
   "name": "python",
   "nbconvert_exporter": "python",
   "pygments_lexer": "ipython3",
   "version": "3.8.5"
  }
 },
 "nbformat": 4,
 "nbformat_minor": 1
}
