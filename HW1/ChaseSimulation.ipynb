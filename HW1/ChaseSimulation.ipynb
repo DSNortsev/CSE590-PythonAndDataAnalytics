{
  "nbformat": 4,
  "nbformat_minor": 0,
  "metadata": {
    "colab": {
      "name": "HW1.ipynb",
      "provenance": [],
      "include_colab_link": true
    },
    "kernelspec": {
      "display_name": "Python 3",
      "language": "python",
      "name": "python3"
    },
    "language_info": {
      "codemirror_mode": {
        "name": "ipython",
        "version": 3
      },
      "file_extension": ".py",
      "mimetype": "text/x-python",
      "name": "python",
      "nbconvert_exporter": "python",
      "pygments_lexer": "ipython3",
      "version": "3.8.5"
    }
  },
  "cells": [
    {
      "cell_type": "markdown",
      "metadata": {
        "id": "view-in-github",
        "colab_type": "text"
      },
      "source": [
        "<a href=\"https://colab.research.google.com/github/DSNortsev/CSE590-PythonAndDataAnalytics/blob/main/HW1/ChaseSimulation.ipynb\" target=\"_parent\"><img src=\"https://colab.research.google.com/assets/colab-badge.svg\" alt=\"Open In Colab\"/></a>"
      ]
    },
    {
      "cell_type": "markdown",
      "metadata": {
        "id": "4wAKUJZyTHmD"
      },
      "source": [
        "## The Golem and the Imp\n",
        "\n",
        "<p align=\"justify\">\n",
        "A lazy wizard has summoned an imp into his tower to perform chores and menial tasks.  The imp finds this arrangement boring and wishes to escape the tower for more entertaining pursuits.   Unfortunately for it, the wizard has animated a mechanical construct (golem) to keep an eye on the imp.  In a lucky turn of events, the imp has located a secret trap door leading into the cellar tunnels, which eventually leads to an escape to the surface outside the tower.   The bad news is that the golem is right on its heels.  One of two events is about to transpire: either the imp is going to escape the clutches of the wizard to sweet open-air and freedom, or it is going to be recaptured and return to a dull life in the tower.\n",
        "</p>\n",
        "\n",
        "<p align=\"justify\">\n",
        "<b>1)</b>(70 pts) You are to create an IPython notebook file entitled ChaseSimulation.ipynb with an obvious cell that performs a simulation of the imp-golem chase to the surface.  Assume the following rules:<br></br>\n",
        "<b>i.</b> The tunnel is 50 feet in length (beginning at foot 0, ending at foot 50).  The golem starts at the beginning (foot 0), while the imp has a short head-start (at foot 5).<br></br>\n",
        "<b>ii.</b> While in the tunnel, the imp moves a bit awkwardly between 1 and 7 feet (randomly) every second, while the golem moves at a slow but steady 3-4 feet (randomly) every second.<br></br>\n",
        "<b>iii.</b> If the imp reaches foot 50 (the exit to the surface) it can use its wings to easily escape.  But if the golem’s position overtakes the imp’s position beforehand, the imp is captured and its fun ends.<br></br>\n",
        "<b>iv.</b> You are to simulate every second of the chase by incrementing the golem’s and imp’s position according to the rules in part ii. above, culminating with one of the scenarios described in part iii.  You must print details regarding each second’s passing (where the golem and imp are), up until the concluding second – at which point you should simply print the outcome. (See examples below.) \n",
        "</p> \n",
        "\n",
        "\n",
        "**Ex 1 (The imp escapes):**<br></br>\n",
        "G----I--------------------------------------------X\t0s<br></br>\n",
        "----G-------I-------------------------------------X\t1s<br></br>\n",
        "--------G---------I-------------------------------X\t2s<br></br>\n",
        "-----------G----------I---------------------------X\t3s<br></br>\n",
        "---------------G----------I-----------------------X\t4s<br></br>\n",
        "------------------G-----------I-------------------X\t5s<br></br>\n",
        "----------------------G-----------I---------------X\t6s<br></br>\n",
        "--------------------------G--------------I--------X\t7s<br></br>\n",
        "------------------------------G----------------I--X\t8s<br></br>\n",
        "THE IMP HAS ESCAPED TO FREEDOM AFTER 9 SECONDS.  MISCHIEF AND TRICKERY AWAIT!\n",
        "<br></br>\n",
        "\n",
        "**Ex 2 (The golem captures the imp):**<br></br>\n",
        "G----I--------------------------------------------X\t0s<br></br>\n",
        "----G---I-----------------------------------------X\t1s<br></br>\n",
        "-------G---I--------------------------------------X\t2s<br></br>\n",
        "-----------G--I-----------------------------------X\t3s<br></br>\n",
        "---------------G-I--------------------------------X\t4s<br></br>\n",
        "SADLY, IT’S BACK TO THE TOWER FOR THE IMP AFTER A 5 SECOND-CHASE.<br></br>\n"
      ]
    },
    {
      "cell_type": "code",
      "metadata": {
        "id": "R82tldlAyxjF"
      },
      "source": [
        "# import libraries\n",
        "import random\n",
        "import time\n",
        "\n",
        "# Initiating variable \n",
        "\n",
        "# Imp's name\n",
        "imp = 'I' \n",
        "# Imp's initial position\n",
        "imp_position = 5 - 1 # Deduct 0 since list index starts with 0\n",
        "# Imp's allowed steps ahead\n",
        "imp_step = (1, 7) \n",
        "\n",
        "# Golem's name\n",
        "golem = 'G' \n",
        "# Golem's initial position\n",
        "golem_position = 0 \n",
        "# Golem's allowed steps ahead\n",
        "golem_step = (3, 4)\n",
        "\n",
        "# Sleep time between each game \n",
        "sleep_time = 1\n",
        "# Tunnel length\n",
        "TUNNEL_LENGTH = 50\n",
        "\n",
        "\n",
        "def move(steps):\n",
        "  \"\"\" Move function randomly select number of steps for player and accepts one argument:\n",
        "      step - the range how many steps the player can step ahead \"\"\"\n",
        "  return random.randint(*steps)\n",
        "\n",
        "\n",
        "def play(imp_position, golem_position):\n",
        "  \"\"\" Play function plays game for imp and golem and accepts 2 arguments:\n",
        "        - imp_position: imp's inital position\n",
        "        - golem_position: golem's initial position\n",
        "  \"\"\" \n",
        "  # Total number of games\n",
        "  count = 0\n",
        "\n",
        "  # Play till imp reaches the end of the tunnel\n",
        "  while imp_position <= TUNNEL_LENGTH:\n",
        "    # Initiate the tunnel\n",
        "    tunnel = ['-'] * TUNNEL_LENGTH + ['X ']\n",
        "\n",
        "    # Check if it is an inital position\n",
        "    if count != 0:\n",
        "      imp_position += move(imp_step)\n",
        "      golem_position += move(golem_step)\n",
        "\n",
        "    if imp_position > golem_position and imp_position <= TUNNEL_LENGTH\\\n",
        "       and golem_position <= TUNNEL_LENGTH:\n",
        "      tunnel[imp_position] = imp\n",
        "      tunnel[golem_position] = golem\n",
        "      print(*tunnel, count, 's', sep='')\n",
        "      count += 1\n",
        "      time.sleep(sleep_time)\n",
        "    elif golem_position >= imp_position:\n",
        "      print(f'SADLY, IT’S BACK TO THE TOWER FOR THE IMP AFTER A {count} SECOND-CHASE.')\n",
        "      break\n",
        "    else:\n",
        "      print(f'THE IMP HAS ESCAPED TO FREEDOM AFTER {count} SECONDS. MISCHIEF AND TRICKERY AWAIT!')\n",
        "      break"
      ],
      "execution_count": null,
      "outputs": []
    },
    {
      "cell_type": "code",
      "metadata": {
        "colab": {
          "base_uri": "https://localhost:8080/"
        },
        "id": "Fq94HZwB6U-K",
        "outputId": "6532d7d3-414e-4979-f48e-95550279a0e1"
      },
      "source": [
        "play(imp_position, golem_position)"
      ],
      "execution_count": null,
      "outputs": [
        {
          "output_type": "stream",
          "text": [
            "G---I---------------------------------------------X 0s\n",
            "---G---I------------------------------------------X 1s\n",
            "------G---I---------------------------------------X 2s\n",
            "----------G------I--------------------------------X 3s\n",
            "--------------G-----I-----------------------------X 4s\n",
            "-----------------G--------I-----------------------X 5s\n",
            "---------------------G---------I------------------X 6s\n",
            "------------------------G------------I------------X 7s\n",
            "---------------------------G-------------I--------X 8s\n",
            "-------------------------------G--------------I---X 9s\n",
            "THE IMP HAS ESCAPED TO FREEDOM AFTER 10 SECONDS. MISCHIEF AND TRICKERY AWAIT!\n"
          ],
          "name": "stdout"
        }
      ]
    },
    {
      "cell_type": "markdown",
      "metadata": {
        "id": "63QL4LNMcnFg"
      },
      "source": [
        "<p align=\"justify\">\n",
        "2) (30 pts) You are to define Python function chaseSimple(…) within a standard python file ChaseSimple.py that simulates the chase from problem 1 but prints nothing and instead returns True (if the imp escapes) or False (if it is recaptured).  However, instead of using fixed positions and speeds, your function must accept the following parameters:<br></br>\n",
        "<b>1.</b> impSpd: A two-element tuple where element 1 is the min # feet per second and element 2 is the max # for the imp (instead of the static 1 and 7, respectively).<br></br>\n",
        "<b>2.</b> golemSpd: A two-element tuple identical to impSpd, but gives the golem’s movement in feet per second.<br></br>\n",
        "<b>3.</b> headStart: a single integer indicating the initial position of the imp in feet.<br></br>\n",
        "<b>4.</b> exitPosition: A single integer indicating the foot at which the exit appears. <br></br>\n",
        "The parameters must be passed to function chaseSimple in the above order.  Its signature should therefore be chaseSimple(impSpd, golemSpd, headStart, exitPosition).  The actual simulation is identical to that of problem 1, but should substitute the parameters in place of the fixed values.\n",
        "It is highly advised that you test your function works correctly by calling it from an outside script.\n",
        "</p>\n"
      ]
    },
    {
      "cell_type": "code",
      "metadata": {
        "id": "K9AvuuVodGdE"
      },
      "source": [
        "# Create ChaseSimple.py and paste the code below\n",
        "\n",
        "# import libraries\n",
        "import random\n",
        "import time\n",
        "\n",
        "# Initiating variable \n",
        "imp_spd = (2,5)\n",
        "golem_spd = (3,5)\n",
        "head_start = 3\n",
        "exit_position = 30\n",
        "\n",
        "def move(steps):\n",
        "  \"\"\" Move function randomly select number of steps for player and accepts one argument:\n",
        "      step - the range how many steps the player can step ahead \"\"\"\n",
        "  return random.randint(*steps)\n",
        "\n",
        "\n",
        "def chase_simple(imp_spd, golem_spd, head_start,exit_position):\n",
        "  \"\"\" ChaseSimple function plays game for imp and golem and accepts 4 arguments:\n",
        "        - iimp_spd: A two-element tuple where element 1 is the min # feet per second\n",
        "                    and element 2 is the max # for the imp (instead of the static\n",
        "                    1 and 7, respectively).\n",
        "        - golem_spd: A two-element tuple identical to impSpd, but gives the golem’s\n",
        "                     movement in feet per second\n",
        "        - head_start: a single integer indicating the initial position of the imp in feet,\n",
        "                      can not be less then 1. \n",
        "        - exit_position: A single integer indicating the foot at which the exit appears\n",
        "  \"\"\" \n",
        "\n",
        "  # Imp's name\n",
        "  imp = 'I' \n",
        "  # Golem's name\n",
        "  golem = 'G'\n",
        "  # Golem's initial position\n",
        "  golem_position = 0 \n",
        "  # Sleep time between each game \n",
        "  sleep_time = 1\n",
        "  # Total number of games\n",
        "  count = 0\n",
        "\n",
        "  # Check that imp postion is between 0 and exit_position\n",
        "  if head_start not in range(1,exit_position + 1):\n",
        "    print(f'ERROR: Emp position should be between 1 and {exit_position}')\n",
        "    return False\n",
        "\n",
        "  # Check that imp_spd and golem_spd are tuple with length 2. \n",
        "  for element in imp_spd, golem_spd:\n",
        "    if not isinstance(element, tuple) or len(element) != 2:\n",
        "      print(f'ERROR: imp_spd/golem_spd should be tuple and contain 2 digits')\n",
        "      return False\n",
        "  \n",
        "  # Check that exit_position is a digt and it should be greater then imp's or golem's\n",
        "  # initial position\n",
        "\n",
        "  if not isinstance(exit_position, int) or exit_position <= head_start:\n",
        "    print(f'ERROR: exit_position can only be an integer and not less or equal head_start: {head_start}')\n",
        "    return False\n",
        "\n",
        "  # Play till imp reaches the end of the tunnel\n",
        "  while head_start <= exit_position:\n",
        "    # # Initiate the tunnel\n",
        "    tunnel = ['-'] * exit_position + ['X ']\n",
        "\n",
        "    # Check if it is an inital position\n",
        "    if count != 0:\n",
        "      head_start += move(imp_spd)\n",
        "      golem_position += move(golem_spd)\n",
        "\n",
        "    if head_start > golem_position and head_start <= exit_position\\\n",
        "       and golem_position <= exit_position:\n",
        "      # tunnel[head_start] = imp\n",
        "      # tunnel[golem_position] = golem\n",
        "      # print(*tunnel, count, 's', sep='')\n",
        "      count += 1\n",
        "      time.sleep(sleep_time)\n",
        "    elif golem_position >= head_start:\n",
        "      return False\n",
        "    else:\n",
        "      return True\n",
        "\n",
        "\n",
        "if __name__ == \"__main__\":\n",
        "  chase_simple(imp_spd, golem_spd, head_start, exit_position)\n"
      ],
      "execution_count": 38,
      "outputs": []
    },
    {
      "cell_type": "code",
      "metadata": {
        "id": "oB23NOxCfVz7",
        "outputId": "4609b732-f20b-4b77-f5e6-deab95cc8e65",
        "colab": {
          "base_uri": "https://localhost:8080/"
        }
      },
      "source": [
        "chase_simple(imp_spd, golem_spd, head_start, exit_position )"
      ],
      "execution_count": 41,
      "outputs": [
        {
          "output_type": "execute_result",
          "data": {
            "text/plain": [
              "True"
            ]
          },
          "metadata": {
            "tags": []
          },
          "execution_count": 41
        }
      ]
    }
  ]
}