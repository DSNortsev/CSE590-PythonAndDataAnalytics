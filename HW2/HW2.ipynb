{
  "nbformat": 4,
  "nbformat_minor": 0,
  "metadata": {
    "kernelspec": {
      "display_name": "Python 3",
      "language": "python",
      "name": "python3"
    },
    "language_info": {
      "codemirror_mode": {
        "name": "ipython",
        "version": 3
      },
      "file_extension": ".py",
      "mimetype": "text/x-python",
      "name": "python",
      "nbconvert_exporter": "python",
      "pygments_lexer": "ipython3",
      "version": "3.8.5"
    },
    "colab": {
      "name": "HW2.ipynb",
      "provenance": [],
      "include_colab_link": true
    }
  },
  "cells": [
    {
      "cell_type": "markdown",
      "metadata": {
        "id": "view-in-github",
        "colab_type": "text"
      },
      "source": [
        "<a href=\"https://colab.research.google.com/github/DSNortsev/CSE590-PythonAndDataAnalytics/blob/main/HW2/HW2.ipynb\" target=\"_parent\"><img src=\"https://colab.research.google.com/assets/colab-badge.svg\" alt=\"Open In Colab\"/></a>"
      ]
    },
    {
      "cell_type": "code",
      "metadata": {
        "id": "QYAkwgbsHGKl"
      },
      "source": [
        "from collections import OrderedDict\n",
        "import numpy as np\n",
        "import pandas as pd\n",
        "import re"
      ],
      "execution_count": null,
      "outputs": []
    },
    {
      "cell_type": "markdown",
      "metadata": {
        "id": "Rx1Bmt9vKILf"
      },
      "source": [
        "<b>This assignment deals with loading a simple text file into a Python structure, lists, arrays, and dataframes.</b>\n",
        "\n",
        "<b>a. Locate a movie script, play script, poem, or book of your choice in .txt format*. Project Gutenburg is a great resource for this if you're not sure where to start.</b>\n",
        "\n",
        "<b>b. Load the words of this structure, one-by-one, into a one-dimensional, sequential Python list (i.e. the first word should be the first element in the list, while the last word should be the last element). It's up to you how to deal with special chacters -- you can remove them manually, ignore them during the loading process, or even count them as words, for example.</b>"
      ]
    },
    {
      "cell_type": "code",
      "metadata": {
        "colab": {
          "base_uri": "https://localhost:8080/"
        },
        "id": "egu22DuCPct0",
        "outputId": "4c9b9fe6-259c-48b5-fec7-980b21d118f3"
      },
      "source": [
        "def load_data(data_file):\n",
        "  \"\"\"\n",
        "    Reads txt file and returns a list of words\n",
        "  \"\"\"\n",
        "  # Compile regex pattern\n",
        "  regex_pattern = re.compile('[^A-Za-z0-9.:/-]+')\n",
        "\n",
        "  # Read txt file\n",
        "  with open(data_file) as f:\n",
        "    # Find all special characters in the word and replace it with empty string\n",
        "    # Remove leading and trailing special characters\n",
        "    return [re.sub(regex_pattern, '', word).lower().strip('.:/') for line in f for word in line.split()]\n",
        "\n",
        "\n",
        "words_list = load_data('the_martian_circe.txt')\n",
        "print(words_list[:100])"
      ],
      "execution_count": 283,
      "outputs": [
        {
          "output_type": "stream",
          "text": [
            "['the', 'project', 'gutenberg', 'ebook', 'of', 'the', 'martian', 'circe', 'by', 'raymond', 'f', 'jones', 'this', 'ebook', 'is', 'for', 'the', 'use', 'of', 'anyone', 'anywhere', 'in', 'the', 'united', 'states', 'and', 'most', 'other', 'parts', 'of', 'the', 'world', 'at', 'no', 'cost', 'and', 'with', 'almost', 'no', 'restrictions', 'whatsoever', 'you', 'may', 'copy', 'it', 'give', 'it', 'away', 'or', 're-use', 'it', 'under', 'the', 'terms', 'of', 'the', 'project', 'gutenberg', 'license', 'included', 'with', 'this', 'ebook', 'or', 'online', 'at', 'www.gutenberg.org', 'if', 'you', 'are', 'not', 'located', 'in', 'the', 'united', 'states', 'you', 'will', 'have', 'to', 'check', 'the', 'laws', 'of', 'the', 'country', 'where', 'you', 'are', 'located', 'before', 'using', 'this', 'ebook', 'title', 'the', 'martian', 'circe', 'author', 'raymond']\n"
          ],
          "name": "stdout"
        }
      ]
    },
    {
      "cell_type": "markdown",
      "metadata": {
        "id": "78Bzx91XKQJv"
      },
      "source": [
        "<b>c. Use your list to create and print a two-column pandas data-frame with the following properties: i. Each index should mark the first occurrence of a unique word (independent of case) in the text. ii. The first column for each index should represent the word in question at that index iii. The second column should represent the number of times that particular word appears in the text.</b>"
      ]
    },
    {
      "cell_type": "code",
      "metadata": {
        "colab": {
          "base_uri": "https://localhost:8080/",
          "height": 424
        },
        "id": "KxfjI1C2KUcq",
        "outputId": "b62899e3-3c74-45bd-d67e-b091294d924e"
      },
      "source": [
        "def count_elements(list_of_elements):\n",
        "  \"\"\"\n",
        "    Count words occurance with preserving possition\n",
        "  \"\"\"\n",
        "  data = OrderedDict() \n",
        "  for element in list_of_elements:\n",
        "    if element not in data:\n",
        "      data[element] = 1\n",
        "    else:\n",
        "      data[element] += 1\n",
        "  return data\n",
        "\n",
        "  \n",
        "counted_occurence = count_elements(words_list)\n",
        "df = pd.DataFrame(counted_occurence.items(), columns=['Word', 'Count'])\n",
        "df"
      ],
      "execution_count": 133,
      "outputs": [
        {
          "output_type": "execute_result",
          "data": {
            "text/html": [
              "<div>\n",
              "<style scoped>\n",
              "    .dataframe tbody tr th:only-of-type {\n",
              "        vertical-align: middle;\n",
              "    }\n",
              "\n",
              "    .dataframe tbody tr th {\n",
              "        vertical-align: top;\n",
              "    }\n",
              "\n",
              "    .dataframe thead th {\n",
              "        text-align: right;\n",
              "    }\n",
              "</style>\n",
              "<table border=\"1\" class=\"dataframe\">\n",
              "  <thead>\n",
              "    <tr style=\"text-align: right;\">\n",
              "      <th></th>\n",
              "      <th>Word</th>\n",
              "      <th>Count</th>\n",
              "    </tr>\n",
              "  </thead>\n",
              "  <tbody>\n",
              "    <tr>\n",
              "      <th>0</th>\n",
              "      <td>the</td>\n",
              "      <td>1317</td>\n",
              "    </tr>\n",
              "    <tr>\n",
              "      <th>1</th>\n",
              "      <td>project</td>\n",
              "      <td>89</td>\n",
              "    </tr>\n",
              "    <tr>\n",
              "      <th>2</th>\n",
              "      <td>gutenberg</td>\n",
              "      <td>31</td>\n",
              "    </tr>\n",
              "    <tr>\n",
              "      <th>3</th>\n",
              "      <td>ebook</td>\n",
              "      <td>13</td>\n",
              "    </tr>\n",
              "    <tr>\n",
              "      <th>4</th>\n",
              "      <td>of</td>\n",
              "      <td>631</td>\n",
              "    </tr>\n",
              "    <tr>\n",
              "      <th>...</th>\n",
              "      <td>...</td>\n",
              "      <td>...</td>\n",
              "    </tr>\n",
              "    <tr>\n",
              "      <th>3176</th>\n",
              "      <td>pg</td>\n",
              "      <td>1</td>\n",
              "    </tr>\n",
              "    <tr>\n",
              "      <th>3177</th>\n",
              "      <td>facility</td>\n",
              "      <td>1</td>\n",
              "    </tr>\n",
              "    <tr>\n",
              "      <th>3178</th>\n",
              "      <td>includes</td>\n",
              "      <td>1</td>\n",
              "    </tr>\n",
              "    <tr>\n",
              "      <th>3179</th>\n",
              "      <td>subscribe</td>\n",
              "      <td>1</td>\n",
              "    </tr>\n",
              "    <tr>\n",
              "      <th>3180</th>\n",
              "      <td>newsletter</td>\n",
              "      <td>1</td>\n",
              "    </tr>\n",
              "  </tbody>\n",
              "</table>\n",
              "<p>3181 rows × 2 columns</p>\n",
              "</div>"
            ],
            "text/plain": [
              "            Word  Count\n",
              "0            the   1317\n",
              "1        project     89\n",
              "2      gutenberg     31\n",
              "3          ebook     13\n",
              "4             of    631\n",
              "...          ...    ...\n",
              "3176          pg      1\n",
              "3177    facility      1\n",
              "3178    includes      1\n",
              "3179   subscribe      1\n",
              "3180  newsletter      1\n",
              "\n",
              "[3181 rows x 2 columns]"
            ]
          },
          "metadata": {
            "tags": []
          },
          "execution_count": 133
        }
      ]
    },
    {
      "cell_type": "markdown",
      "metadata": {
        "id": "gIE3pwXVKg1E"
      },
      "source": [
        "<b> d. The co-occurrence of two events represents the likelihood of the two occurring together. A simple example of co-occurrence in texts is a predecessor-successor relationship -- that is, the frequency with which one word immediately follows another. The word \"cellar,\" for example, is commonly followed by \"door.\" </b>\n",
        "\n",
        "For this task, you are to construct a 2-dimensional predecessor-successor co-occurrence array as follows**: i. The row index corresponds to the word from the same index in part c.'s data-frame. ii. The column index likewise corresponds to the word in the same index in the data-frame. iii. The value in each array location represents the count of the number of times the word corresponding to the row index immediately precedes the word correponding to the column index in the text. "
      ]
    },
    {
      "cell_type": "code",
      "metadata": {
        "colab": {
          "base_uri": "https://localhost:8080/"
        },
        "id": "wvXSaFH3T05q",
        "outputId": "098842ac-08a4-4f59-da8d-f691cd564eed"
      },
      "source": [
        "def generate_co_occurance_matrix(words_list, columns):\n",
        "  \"\"\"\n",
        "    Generates co-occurance matrix:\n",
        "      word_list : a list of words in the text\n",
        "      columns: unique list of words\n",
        "  \"\"\"\n",
        "  # Convert words list to numpy array\n",
        "  words_array = np.array(words_list)\n",
        "  # Convert columns list to numpy array\n",
        "  columns_array = np.array(columns)\n",
        "  # Generate zero value matrix with integer value\n",
        "  matrix = np.zeros((len(columns), len(columns)), dtype=np.int)\n",
        "  count = 0 \n",
        "  # Iterate over unique words\n",
        "  for word in columns_array:\n",
        "    # find row position in matrix for the word\n",
        "    row_position = np.where(columns_array == word)[0][0]\n",
        "    # Find all occurances of this word in the list and iterate over it \n",
        "    for word_position in np.where(words_array == word)[0]:\n",
        "      if word_position < len(words_array) - 1:\n",
        "        # Find position of the successor word\n",
        "        col_position = np.where(columns_array == str(words_array[word_position + 1]))[0][0]\n",
        "        # Incremenet predecessor-successor co-occurrence by one\n",
        "        matrix[row_position, col_position] += 1   \n",
        "  return matrix\n",
        "\n",
        "matrix = generate_co_occurance_matrix(words_list, list(counted_occurence.keys()))\n",
        "matrix"
      ],
      "execution_count": 196,
      "outputs": [
        {
          "output_type": "execute_result",
          "data": {
            "text/plain": [
              "array([[ 0, 33,  0, ...,  0,  0,  0],\n",
              "       [ 0,  0, 31, ...,  0,  0,  0],\n",
              "       [ 0,  0,  0, ...,  0,  0,  0],\n",
              "       ...,\n",
              "       [ 0,  0,  0, ...,  0,  0,  0],\n",
              "       [ 0,  0,  0, ...,  0,  0,  0],\n",
              "       [ 0,  0,  0, ...,  0,  0,  0]])"
            ]
          },
          "metadata": {
            "tags": []
          },
          "execution_count": 196
        }
      ]
    },
    {
      "cell_type": "markdown",
      "metadata": {
        "id": "Ya8ljAYHLE43"
      },
      "source": [
        "<b>e. Based on the data-frame derived in part c. and array derived in part d., determine and print the following information:<br></br>\n",
        "i. The first occurring word in the text. </b>"
      ]
    },
    {
      "cell_type": "code",
      "metadata": {
        "colab": {
          "base_uri": "https://localhost:8080/",
          "height": 36
        },
        "id": "xXXg1c8GLdxr",
        "outputId": "9af52f9c-22f1-4c18-d824-13fef7812cb8"
      },
      "source": [
        "df['Word'].iloc[0]"
      ],
      "execution_count": 141,
      "outputs": [
        {
          "output_type": "execute_result",
          "data": {
            "application/vnd.google.colaboratory.intrinsic+json": {
              "type": "string"
            },
            "text/plain": [
              "'the'"
            ]
          },
          "metadata": {
            "tags": []
          },
          "execution_count": 141
        }
      ]
    },
    {
      "cell_type": "markdown",
      "metadata": {
        "id": "kD5jeilZLRB3"
      },
      "source": [
        "<b>ii. The unique word that first occurs last within the text. </b> "
      ]
    },
    {
      "cell_type": "code",
      "metadata": {
        "colab": {
          "base_uri": "https://localhost:8080/",
          "height": 36
        },
        "id": "5BlExGSpMkgE",
        "outputId": "95cc4f19-51f4-4d44-e80e-a56be025db60"
      },
      "source": [
        "df['Word'].iloc[-1]"
      ],
      "execution_count": 142,
      "outputs": [
        {
          "output_type": "execute_result",
          "data": {
            "application/vnd.google.colaboratory.intrinsic+json": {
              "type": "string"
            },
            "text/plain": [
              "'newsletter'"
            ]
          },
          "metadata": {
            "tags": []
          },
          "execution_count": 142
        }
      ]
    },
    {
      "cell_type": "markdown",
      "metadata": {
        "id": "rnb2WyNALlUB"
      },
      "source": [
        "<b>iii. The most common word </b>"
      ]
    },
    {
      "cell_type": "code",
      "metadata": {
        "colab": {
          "base_uri": "https://localhost:8080/",
          "height": 36
        },
        "id": "zo60FyyYM5yS",
        "outputId": "5df73f0a-b42e-4cbe-c587-18ea762f3a50"
      },
      "source": [
        "df[df['Count'] == df['Count'].max()]['Word'].iloc[0]"
      ],
      "execution_count": 159,
      "outputs": [
        {
          "output_type": "execute_result",
          "data": {
            "application/vnd.google.colaboratory.intrinsic+json": {
              "type": "string"
            },
            "text/plain": [
              "'the'"
            ]
          },
          "metadata": {
            "tags": []
          },
          "execution_count": 159
        }
      ]
    },
    {
      "cell_type": "markdown",
      "metadata": {
        "id": "psgz2QERM09H"
      },
      "source": [
        "<b> v. Words A and B such that B follows A more than any other combination of words.</b>"
      ]
    },
    {
      "cell_type": "code",
      "metadata": {
        "colab": {
          "base_uri": "https://localhost:8080/"
        },
        "id": "4XCfzXs5M3lD",
        "outputId": "49340e05-0e10-464d-89c4-d40d171c6f85"
      },
      "source": [
        "# Find max value in matrix\n",
        "max_occurence = np.amax(matrix)\n",
        "# Find positions of max value \n",
        "position = np.where(matrix == max_occurence)\n",
        "print()\n",
        "\n",
        "print(df['Word'].iloc[position[0][0]], df['Word'].iloc[position[1][0]])"
      ],
      "execution_count": 163,
      "outputs": [
        {
          "output_type": "stream",
          "text": [
            "\n",
            "of the\n"
          ],
          "name": "stdout"
        }
      ]
    },
    {
      "cell_type": "markdown",
      "metadata": {
        "id": "Cs4lIl93MtLL"
      },
      "source": [
        "<b>vi. The word that most commonly follows the least common word </b>"
      ]
    },
    {
      "cell_type": "code",
      "metadata": {
        "colab": {
          "base_uri": "https://localhost:8080/",
          "height": 424
        },
        "id": "8gWrBk0xVuG8",
        "outputId": "4220027b-2773-4422-871e-f4220a08a163"
      },
      "source": [
        "df[df['Count'] == df['Count'].min()]"
      ],
      "execution_count": 194,
      "outputs": [
        {
          "output_type": "execute_result",
          "data": {
            "text/html": [
              "<div>\n",
              "<style scoped>\n",
              "    .dataframe tbody tr th:only-of-type {\n",
              "        vertical-align: middle;\n",
              "    }\n",
              "\n",
              "    .dataframe tbody tr th {\n",
              "        vertical-align: top;\n",
              "    }\n",
              "\n",
              "    .dataframe thead th {\n",
              "        text-align: right;\n",
              "    }\n",
              "</style>\n",
              "<table border=\"1\" class=\"dataframe\">\n",
              "  <thead>\n",
              "    <tr style=\"text-align: right;\">\n",
              "      <th></th>\n",
              "      <th>Word</th>\n",
              "      <th>Count</th>\n",
              "    </tr>\n",
              "  </thead>\n",
              "  <tbody>\n",
              "    <tr>\n",
              "      <th>59</th>\n",
              "      <td>title</td>\n",
              "      <td>1</td>\n",
              "    </tr>\n",
              "    <tr>\n",
              "      <th>60</th>\n",
              "      <td>author</td>\n",
              "      <td>1</td>\n",
              "    </tr>\n",
              "    <tr>\n",
              "      <th>61</th>\n",
              "      <td>release</td>\n",
              "      <td>1</td>\n",
              "    </tr>\n",
              "    <tr>\n",
              "      <th>63</th>\n",
              "      <td>january</td>\n",
              "      <td>1</td>\n",
              "    </tr>\n",
              "    <tr>\n",
              "      <th>64</th>\n",
              "      <td>18</td>\n",
              "      <td>1</td>\n",
              "    </tr>\n",
              "    <tr>\n",
              "      <th>...</th>\n",
              "      <td>...</td>\n",
              "      <td>...</td>\n",
              "    </tr>\n",
              "    <tr>\n",
              "      <th>3176</th>\n",
              "      <td>pg</td>\n",
              "      <td>1</td>\n",
              "    </tr>\n",
              "    <tr>\n",
              "      <th>3177</th>\n",
              "      <td>facility</td>\n",
              "      <td>1</td>\n",
              "    </tr>\n",
              "    <tr>\n",
              "      <th>3178</th>\n",
              "      <td>includes</td>\n",
              "      <td>1</td>\n",
              "    </tr>\n",
              "    <tr>\n",
              "      <th>3179</th>\n",
              "      <td>subscribe</td>\n",
              "      <td>1</td>\n",
              "    </tr>\n",
              "    <tr>\n",
              "      <th>3180</th>\n",
              "      <td>newsletter</td>\n",
              "      <td>1</td>\n",
              "    </tr>\n",
              "  </tbody>\n",
              "</table>\n",
              "<p>1725 rows × 2 columns</p>\n",
              "</div>"
            ],
            "text/plain": [
              "            Word  Count\n",
              "59         title      1\n",
              "60        author      1\n",
              "61       release      1\n",
              "63       january      1\n",
              "64            18      1\n",
              "...          ...    ...\n",
              "3176          pg      1\n",
              "3177    facility      1\n",
              "3178    includes      1\n",
              "3179   subscribe      1\n",
              "3180  newsletter      1\n",
              "\n",
              "[1725 rows x 2 columns]"
            ]
          },
          "metadata": {
            "tags": []
          },
          "execution_count": 194
        }
      ]
    },
    {
      "cell_type": "code",
      "metadata": {
        "colab": {
          "base_uri": "https://localhost:8080/",
          "height": 36
        },
        "id": "hmZG-uBYhtCg",
        "outputId": "0666ecab-ef28-47ea-c7ef-b5903f160812"
      },
      "source": [
        "df.iloc[59]['Word']"
      ],
      "execution_count": 255,
      "outputs": [
        {
          "output_type": "execute_result",
          "data": {
            "application/vnd.google.colaboratory.intrinsic+json": {
              "type": "string"
            },
            "text/plain": [
              "'title'"
            ]
          },
          "metadata": {
            "tags": []
          },
          "execution_count": 255
        }
      ]
    },
    {
      "cell_type": "code",
      "metadata": {
        "colab": {
          "base_uri": "https://localhost:8080/",
          "height": 424
        },
        "id": "RVJ_svJIMlfK",
        "outputId": "759c940d-3a5e-4e28-abbc-471d39b7f16c"
      },
      "source": [
        "def find_most_common_word_follows_least(df, matrix):\n",
        "  # Find less common words\n",
        "  least_common_words_index = df.index[df['Count'] == df['Count'].min()].tolist()\n",
        "  # Create empty PandaFrame\n",
        "  result = pd.DataFrame(data = [],  columns=['Predecessor', 'Successor',\n",
        "                                             'Occurence_predecessor','Occurence_successor' ])\n",
        "\n",
        "  # Iterate over least common words\n",
        "  for column_pos in least_common_words_index:\n",
        "    # Get one dimension matrix for that word\n",
        "    tmp_array = matrix[:,column_pos]\n",
        "    # Find all occurence with greater than 0\n",
        "    positive_occurence_list  = tmp_array[tmp_array>0]\n",
        "    # Iterate over all occurence\n",
        "    for occurence in positive_occurence_list:\n",
        "        # Find index of the element\n",
        "        row_pos = np.where(tmp_array == occurence)[0][0]\n",
        "        # Generate new row\n",
        "        new_row = [df.iloc[row_pos]['Word'], df.iloc[column_pos]['Word'],\n",
        "                   df.iloc[row_pos]['Count'], df.iloc[column_pos]['Count']]\n",
        "        # Append it to result\n",
        "        result.loc[len(result)] = new_row\n",
        "  return result\n",
        "\n",
        "df_task4 = find_most_common_word_follows_least(df, matrix)\n",
        "df_task4"
      ],
      "execution_count": 282,
      "outputs": [
        {
          "output_type": "execute_result",
          "data": {
            "text/html": [
              "<div>\n",
              "<style scoped>\n",
              "    .dataframe tbody tr th:only-of-type {\n",
              "        vertical-align: middle;\n",
              "    }\n",
              "\n",
              "    .dataframe tbody tr th {\n",
              "        vertical-align: top;\n",
              "    }\n",
              "\n",
              "    .dataframe thead th {\n",
              "        text-align: right;\n",
              "    }\n",
              "</style>\n",
              "<table border=\"1\" class=\"dataframe\">\n",
              "  <thead>\n",
              "    <tr style=\"text-align: right;\">\n",
              "      <th></th>\n",
              "      <th>Predecessor</th>\n",
              "      <th>Successor</th>\n",
              "      <th>Occurence_predecessor</th>\n",
              "      <th>Occurence_successor</th>\n",
              "    </tr>\n",
              "  </thead>\n",
              "  <tbody>\n",
              "    <tr>\n",
              "      <th>0</th>\n",
              "      <td>ebook</td>\n",
              "      <td>title</td>\n",
              "      <td>13</td>\n",
              "      <td>1</td>\n",
              "    </tr>\n",
              "    <tr>\n",
              "      <th>1</th>\n",
              "      <td>circe</td>\n",
              "      <td>author</td>\n",
              "      <td>5</td>\n",
              "      <td>1</td>\n",
              "    </tr>\n",
              "    <tr>\n",
              "      <th>2</th>\n",
              "      <td>jones</td>\n",
              "      <td>release</td>\n",
              "      <td>3</td>\n",
              "      <td>1</td>\n",
              "    </tr>\n",
              "    <tr>\n",
              "      <th>3</th>\n",
              "      <td>date</td>\n",
              "      <td>january</td>\n",
              "      <td>3</td>\n",
              "      <td>1</td>\n",
              "    </tr>\n",
              "    <tr>\n",
              "      <th>4</th>\n",
              "      <td>january</td>\n",
              "      <td>18</td>\n",
              "      <td>1</td>\n",
              "      <td>1</td>\n",
              "    </tr>\n",
              "    <tr>\n",
              "      <th>...</th>\n",
              "      <td>...</td>\n",
              "      <td>...</td>\n",
              "      <td>...</td>\n",
              "      <td>...</td>\n",
              "    </tr>\n",
              "    <tr>\n",
              "      <th>1720</th>\n",
              "      <td>main</td>\n",
              "      <td>pg</td>\n",
              "      <td>5</td>\n",
              "      <td>1</td>\n",
              "    </tr>\n",
              "    <tr>\n",
              "      <th>1721</th>\n",
              "      <td>search</td>\n",
              "      <td>facility</td>\n",
              "      <td>3</td>\n",
              "      <td>1</td>\n",
              "    </tr>\n",
              "    <tr>\n",
              "      <th>1722</th>\n",
              "      <td>site</td>\n",
              "      <td>includes</td>\n",
              "      <td>4</td>\n",
              "      <td>1</td>\n",
              "    </tr>\n",
              "    <tr>\n",
              "      <th>1723</th>\n",
              "      <td>to</td>\n",
              "      <td>subscribe</td>\n",
              "      <td>454</td>\n",
              "      <td>1</td>\n",
              "    </tr>\n",
              "    <tr>\n",
              "      <th>1724</th>\n",
              "      <td>email</td>\n",
              "      <td>newsletter</td>\n",
              "      <td>2</td>\n",
              "      <td>1</td>\n",
              "    </tr>\n",
              "  </tbody>\n",
              "</table>\n",
              "<p>1725 rows × 4 columns</p>\n",
              "</div>"
            ],
            "text/plain": [
              "     Predecessor   Successor Occurence_predecessor Occurence_successor\n",
              "0          ebook       title                    13                   1\n",
              "1          circe      author                     5                   1\n",
              "2          jones     release                     3                   1\n",
              "3           date     january                     3                   1\n",
              "4        january          18                     1                   1\n",
              "...          ...         ...                   ...                 ...\n",
              "1720        main          pg                     5                   1\n",
              "1721      search    facility                     3                   1\n",
              "1722        site    includes                     4                   1\n",
              "1723          to   subscribe                   454                   1\n",
              "1724       email  newsletter                     2                   1\n",
              "\n",
              "[1725 rows x 4 columns]"
            ]
          },
          "metadata": {
            "tags": []
          },
          "execution_count": 282
        }
      ]
    },
    {
      "cell_type": "code",
      "metadata": {
        "colab": {
          "base_uri": "https://localhost:8080/",
          "height": 424
        },
        "id": "3gZal80JlEIu",
        "outputId": "e38c2377-d202-4994-f4a5-6b6359ed6be7"
      },
      "source": [
        "df_task4[df_task4['Occurence_predecessor'] == df_task4['Occurence_predecessor'].max()]"
      ],
      "execution_count": 281,
      "outputs": [
        {
          "output_type": "execute_result",
          "data": {
            "text/html": [
              "<div>\n",
              "<style scoped>\n",
              "    .dataframe tbody tr th:only-of-type {\n",
              "        vertical-align: middle;\n",
              "    }\n",
              "\n",
              "    .dataframe tbody tr th {\n",
              "        vertical-align: top;\n",
              "    }\n",
              "\n",
              "    .dataframe thead th {\n",
              "        text-align: right;\n",
              "    }\n",
              "</style>\n",
              "<table border=\"1\" class=\"dataframe\">\n",
              "  <thead>\n",
              "    <tr style=\"text-align: right;\">\n",
              "      <th></th>\n",
              "      <th>Predecessor</th>\n",
              "      <th>Successor</th>\n",
              "      <th>Occurence_predecessor</th>\n",
              "      <th>Occurence_successor</th>\n",
              "    </tr>\n",
              "  </thead>\n",
              "  <tbody>\n",
              "    <tr>\n",
              "      <th>32</th>\n",
              "      <td>the</td>\n",
              "      <td>same--the</td>\n",
              "      <td>1317</td>\n",
              "      <td>1</td>\n",
              "    </tr>\n",
              "    <tr>\n",
              "      <th>36</th>\n",
              "      <td>the</td>\n",
              "      <td>odor</td>\n",
              "      <td>1317</td>\n",
              "      <td>1</td>\n",
              "    </tr>\n",
              "    <tr>\n",
              "      <th>42</th>\n",
              "      <td>the</td>\n",
              "      <td>backwash</td>\n",
              "      <td>1317</td>\n",
              "      <td>1</td>\n",
              "    </tr>\n",
              "    <tr>\n",
              "      <th>45</th>\n",
              "      <td>the</td>\n",
              "      <td>brawling</td>\n",
              "      <td>1317</td>\n",
              "      <td>1</td>\n",
              "    </tr>\n",
              "    <tr>\n",
              "      <th>58</th>\n",
              "      <td>the</td>\n",
              "      <td>solar</td>\n",
              "      <td>1317</td>\n",
              "      <td>1</td>\n",
              "    </tr>\n",
              "    <tr>\n",
              "      <th>...</th>\n",
              "      <td>...</td>\n",
              "      <td>...</td>\n",
              "      <td>...</td>\n",
              "      <td>...</td>\n",
              "    </tr>\n",
              "    <tr>\n",
              "      <th>1628</th>\n",
              "      <td>the</td>\n",
              "      <td>assistance</td>\n",
              "      <td>1317</td>\n",
              "      <td>1</td>\n",
              "    </tr>\n",
              "    <tr>\n",
              "      <th>1643</th>\n",
              "      <td>the</td>\n",
              "      <td>internal</td>\n",
              "      <td>1317</td>\n",
              "      <td>1</td>\n",
              "    </tr>\n",
              "    <tr>\n",
              "      <th>1672</th>\n",
              "      <td>the</td>\n",
              "      <td>irs</td>\n",
              "      <td>1317</td>\n",
              "      <td>1</td>\n",
              "    </tr>\n",
              "    <tr>\n",
              "      <th>1682</th>\n",
              "      <td>the</td>\n",
              "      <td>solicitation</td>\n",
              "      <td>1317</td>\n",
              "      <td>1</td>\n",
              "    </tr>\n",
              "    <tr>\n",
              "      <th>1706</th>\n",
              "      <td>the</td>\n",
              "      <td>originator</td>\n",
              "      <td>1317</td>\n",
              "      <td>1</td>\n",
              "    </tr>\n",
              "  </tbody>\n",
              "</table>\n",
              "<p>185 rows × 4 columns</p>\n",
              "</div>"
            ],
            "text/plain": [
              "     Predecessor     Successor Occurence_predecessor Occurence_successor\n",
              "32           the     same--the                  1317                   1\n",
              "36           the          odor                  1317                   1\n",
              "42           the      backwash                  1317                   1\n",
              "45           the      brawling                  1317                   1\n",
              "58           the         solar                  1317                   1\n",
              "...          ...           ...                   ...                 ...\n",
              "1628         the    assistance                  1317                   1\n",
              "1643         the      internal                  1317                   1\n",
              "1672         the           irs                  1317                   1\n",
              "1682         the  solicitation                  1317                   1\n",
              "1706         the    originator                  1317                   1\n",
              "\n",
              "[185 rows x 4 columns]"
            ]
          },
          "metadata": {
            "tags": []
          },
          "execution_count": 281
        }
      ]
    }
  ]
}