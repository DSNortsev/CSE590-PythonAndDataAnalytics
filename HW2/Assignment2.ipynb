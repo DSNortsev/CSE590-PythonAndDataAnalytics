{
 "cells": [
  {
   "cell_type": "markdown",
   "metadata": {},
   "source": [
    "# CSE 220 Assignment \\#2 (Due 3/1/21)\n",
    "This assignment deals with loading a simple text file into a Python structure, lists, arrays, and dataframes.\n",
    "\n",
    "a. Locate a movie script, play script, poem, or book of your choice in .txt format*. [Project Gutenburg](https://www.gutenberg.org/) is a great resource for this if you're not sure where to start.\n",
    "\n",
    "b. Load the words of this structure, one-by-one, into a one-dimensional, sequential Python list (i.e. the first word should be the first element in the list, while the last word should be the last element).  It's up to you how to deal with special chacters -- you can remove them manually, ignore them during the loading process, or even count them as words, for example.\n",
    "\n",
    "c. Use your list to create **and print** a two-column pandas data-frame with the following properties:\n",
    "i. Each index should mark the first occurrence of a unique word (independent of case) in the text.\n",
    "ii. The first column for each index should represent the word in question at that index\n",
    "iii. The second column should represent the number of times that particular word appears in the text.\n",
    "\n",
    "Ex: if the first word in your text is \"the\" which occurs 500 times and the second is \"balcony\" which only appears twice, your data-frame should _begin_ like the following:\n",
    "\n",
    "| | Word | Count |\n",
    "| --- | --- | --- |\n",
    "| 1 | \"the\" | 500 |\n",
    "| 2 | \"balcony\" | 2 |\n",
    "| ... | ... | ... |\n",
    "\n",
    "d. The _co-occurrence_ of two events represents the likelihood of the two occurring together.  A simple example of co-occurrence in texts is a _predecessor-successor_ relationship -- that is, the frequency with which one word immediately follows another.  The word \"cellar,\" for example, is commonly followed by \"door.\"\n",
    "\n",
    "For this task, you are to construct a 2-dimensional _predecessor-successor co-occurrence_ array as follows**:\n",
    "i. The row index corresponds to the word from the same index in part  c.'s data-frame.\n",
    "ii. The column index likewise corresponds to the word in the same index in the data-frame.\n",
    "iii. The value in each array location represents the count of the number of times the word corresponding to the row index immediately _precedes_ the word correponding to the column index in the text.\n",
    "\n",
    "e. Based on the data-frame derived in part c. and array derived in part d., determine and print the following information:\n",
    "i. The first occurring word in the text.\n",
    "ii. The unique word that first occurs _last_ within the text. \n",
    "iii. The most common word\n",
    "iv. The least common word\n",
    "v. Words A and B such that B follows A more than any other combination of words.\n",
    "vi. The word that most commonly follows the least common word\n",
    "\n",
    "\\* If you have experience with and prefer another format feel to use it.  Also, I recommend sticking to relatively short documents (avoid extremely long novels).\n",
    "\n",
    "\\** You can ignore the first word's \"predecessor\" and last word's \"successor\" in this array since they don't exist. As with part c., case should be ignored.\n",
    "\n",
    "**You can use .py files, .ipynb files, or a combination of the two in your solution.  Zip these files along with a simple README telling me what to run to generate the data-frame, co-occurrence array, and print the results for part e. in a zip file with the name <LN_FN_2.zip>, where LN is your last-name and FN is your first-name, and submit this file to Blackboard.**"
   ]
  }
 ],
 "metadata": {
  "kernelspec": {
   "display_name": "Python 3",
   "language": "python",
   "name": "python3"
  },
  "language_info": {
   "codemirror_mode": {
    "name": "ipython",
    "version": 3
   },
   "file_extension": ".py",
   "mimetype": "text/x-python",
   "name": "python",
   "nbconvert_exporter": "python",
   "pygments_lexer": "ipython3",
   "version": "3.9.1"
  }
 },
 "nbformat": 4,
 "nbformat_minor": 4
}
